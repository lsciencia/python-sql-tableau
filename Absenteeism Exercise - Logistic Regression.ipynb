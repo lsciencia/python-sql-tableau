{
 "cells": [
  {
   "cell_type": "markdown",
   "id": "e9e09445",
   "metadata": {},
   "source": [
    "### Importing relevant libraries"
   ]
  },
  {
   "cell_type": "code",
   "execution_count": 54,
   "id": "0b8ce9f3",
   "metadata": {
    "ExecuteTime": {
     "end_time": "2023-09-21T15:51:50.358287800Z",
     "start_time": "2023-09-21T15:51:50.234789900Z"
    }
   },
   "outputs": [],
   "source": [
    "import pandas as pd\n",
    "import numpy as np"
   ]
  },
  {
   "cell_type": "code",
   "execution_count": 55,
   "id": "8d4f70d1",
   "metadata": {
    "ExecuteTime": {
     "end_time": "2023-09-21T15:51:50.385520900Z",
     "start_time": "2023-09-21T15:51:50.238295Z"
    }
   },
   "outputs": [],
   "source": [
    "data_preprocessed = pd.read_csv('Absenteeism_preprocessed.csv')"
   ]
  },
  {
   "cell_type": "code",
   "execution_count": 56,
   "id": "a3851f35",
   "metadata": {
    "ExecuteTime": {
     "end_time": "2023-09-21T15:51:50.404593600Z",
     "start_time": "2023-09-21T15:51:50.242134200Z"
    }
   },
   "outputs": [
    {
     "data": {
      "text/plain": "   Reason_1  Reason_2  Reason_3  Reason_4        Date  Transportation Expense  \\\n0         0         0         0         1  2015-07-07                     289   \n1         0         0         0         0  2015-07-14                     118   \n2         0         0         0         1  2015-07-15                     179   \n3         1         0         0         0  2015-07-16                     279   \n4         0         0         0         1  2015-07-23                     289   \n\n   Distance to Work  Age  Daily Work Load Average  Body Mass Index  Education  \\\n0                36   33                  239.554               30          0   \n1                13   50                  239.554               31          0   \n2                51   38                  239.554               31          0   \n3                 5   39                  239.554               24          0   \n4                36   33                  239.554               30          0   \n\n   Children  Pets  Absenteeism Time in Hours  Month Value  Day of the Week  \n0         2     1                          4            7                1  \n1         1     0                          0            7                1  \n2         0     0                          2            7                2  \n3         2     0                          4            7                3  \n4         2     1                          2            7                3  ",
      "text/html": "<div>\n<style scoped>\n    .dataframe tbody tr th:only-of-type {\n        vertical-align: middle;\n    }\n\n    .dataframe tbody tr th {\n        vertical-align: top;\n    }\n\n    .dataframe thead th {\n        text-align: right;\n    }\n</style>\n<table border=\"1\" class=\"dataframe\">\n  <thead>\n    <tr style=\"text-align: right;\">\n      <th></th>\n      <th>Reason_1</th>\n      <th>Reason_2</th>\n      <th>Reason_3</th>\n      <th>Reason_4</th>\n      <th>Date</th>\n      <th>Transportation Expense</th>\n      <th>Distance to Work</th>\n      <th>Age</th>\n      <th>Daily Work Load Average</th>\n      <th>Body Mass Index</th>\n      <th>Education</th>\n      <th>Children</th>\n      <th>Pets</th>\n      <th>Absenteeism Time in Hours</th>\n      <th>Month Value</th>\n      <th>Day of the Week</th>\n    </tr>\n  </thead>\n  <tbody>\n    <tr>\n      <th>0</th>\n      <td>0</td>\n      <td>0</td>\n      <td>0</td>\n      <td>1</td>\n      <td>2015-07-07</td>\n      <td>289</td>\n      <td>36</td>\n      <td>33</td>\n      <td>239.554</td>\n      <td>30</td>\n      <td>0</td>\n      <td>2</td>\n      <td>1</td>\n      <td>4</td>\n      <td>7</td>\n      <td>1</td>\n    </tr>\n    <tr>\n      <th>1</th>\n      <td>0</td>\n      <td>0</td>\n      <td>0</td>\n      <td>0</td>\n      <td>2015-07-14</td>\n      <td>118</td>\n      <td>13</td>\n      <td>50</td>\n      <td>239.554</td>\n      <td>31</td>\n      <td>0</td>\n      <td>1</td>\n      <td>0</td>\n      <td>0</td>\n      <td>7</td>\n      <td>1</td>\n    </tr>\n    <tr>\n      <th>2</th>\n      <td>0</td>\n      <td>0</td>\n      <td>0</td>\n      <td>1</td>\n      <td>2015-07-15</td>\n      <td>179</td>\n      <td>51</td>\n      <td>38</td>\n      <td>239.554</td>\n      <td>31</td>\n      <td>0</td>\n      <td>0</td>\n      <td>0</td>\n      <td>2</td>\n      <td>7</td>\n      <td>2</td>\n    </tr>\n    <tr>\n      <th>3</th>\n      <td>1</td>\n      <td>0</td>\n      <td>0</td>\n      <td>0</td>\n      <td>2015-07-16</td>\n      <td>279</td>\n      <td>5</td>\n      <td>39</td>\n      <td>239.554</td>\n      <td>24</td>\n      <td>0</td>\n      <td>2</td>\n      <td>0</td>\n      <td>4</td>\n      <td>7</td>\n      <td>3</td>\n    </tr>\n    <tr>\n      <th>4</th>\n      <td>0</td>\n      <td>0</td>\n      <td>0</td>\n      <td>1</td>\n      <td>2015-07-23</td>\n      <td>289</td>\n      <td>36</td>\n      <td>33</td>\n      <td>239.554</td>\n      <td>30</td>\n      <td>0</td>\n      <td>2</td>\n      <td>1</td>\n      <td>2</td>\n      <td>7</td>\n      <td>3</td>\n    </tr>\n  </tbody>\n</table>\n</div>"
     },
     "execution_count": 56,
     "metadata": {},
     "output_type": "execute_result"
    }
   ],
   "source": [
    "data_preprocessed.head()"
   ]
  },
  {
   "cell_type": "markdown",
   "id": "c37f5ec6",
   "metadata": {},
   "source": [
    "### creating targets"
   ]
  },
  {
   "cell_type": "code",
   "execution_count": 57,
   "id": "f9271bd2",
   "metadata": {
    "ExecuteTime": {
     "end_time": "2023-09-21T15:51:50.424119900Z",
     "start_time": "2023-09-21T15:51:50.251593900Z"
    }
   },
   "outputs": [],
   "source": [
    "absent_median = data_preprocessed['Absenteeism Time in Hours'].median()"
   ]
  },
  {
   "cell_type": "code",
   "execution_count": 58,
   "id": "17d3a134",
   "metadata": {
    "ExecuteTime": {
     "end_time": "2023-09-21T15:51:50.456411Z",
     "start_time": "2023-09-21T15:51:50.253594800Z"
    }
   },
   "outputs": [],
   "source": [
    "targets = np.where(data_preprocessed['Absenteeism Time in Hours'] > absent_median, 1, 0)"
   ]
  },
  {
   "cell_type": "code",
   "execution_count": 59,
   "id": "127eb590",
   "metadata": {
    "ExecuteTime": {
     "end_time": "2023-09-21T15:51:50.464135900Z",
     "start_time": "2023-09-21T15:51:50.256857200Z"
    }
   },
   "outputs": [
    {
     "data": {
      "text/plain": "array([1, 0, 0, 1, 0, 0, 1, 1, 1, 1, 1, 1, 1, 0, 1, 1, 0, 1, 1, 0, 1, 0,\n       1, 1, 1, 1, 0, 1, 1, 0, 1, 1, 1, 1, 0, 0, 1, 1, 1, 1, 0, 1, 1, 1,\n       0, 0, 0, 1, 1, 1, 0, 0, 0, 0, 0, 0, 0, 0, 0, 0, 0, 1, 0, 0, 0, 0,\n       0, 0, 0, 0, 0, 1, 1, 0, 1, 1, 0, 1, 0, 0, 0, 0, 1, 1, 1, 1, 1, 1,\n       0, 1, 0, 1, 0, 1, 0, 0, 1, 0, 0, 1, 0, 1, 0, 1, 1, 1, 0, 0, 0, 1,\n       0, 1, 0, 0, 0, 0, 1, 0, 0, 0, 0, 0, 0, 0, 0, 0, 0, 0, 0, 1, 1, 0,\n       0, 0, 0, 0, 0, 0, 1, 1, 0, 1, 0, 1, 1, 1, 0, 0, 0, 1, 0, 1, 0, 0,\n       1, 0, 1, 0, 1, 1, 1, 1, 0, 1, 1, 1, 1, 1, 1, 1, 1, 0, 1, 1, 0, 1,\n       0, 1, 1, 0, 1, 0, 0, 0, 0, 0, 0, 1, 0, 0, 1, 1, 0, 0, 1, 0, 1, 1,\n       1, 1, 1, 1, 0, 0, 1, 0, 0, 1, 1, 1, 0, 0, 1, 0, 0, 0, 0, 0, 1, 1,\n       1, 1, 1, 1, 1, 1, 1, 1, 1, 1, 0, 1, 1, 0, 0, 0, 1, 1, 1, 1, 1, 1,\n       0, 1, 1, 0, 1, 1, 1, 1, 1, 0, 1, 0, 0, 1, 0, 0, 1, 1, 0, 1, 0, 0,\n       0, 0, 0, 1, 1, 1, 1, 0, 1, 0, 1, 0, 0, 0, 1, 1, 0, 1, 1, 1, 0, 0,\n       0, 1, 1, 1, 1, 1, 1, 0, 0, 1, 0, 1, 0, 1, 0, 1, 0, 0, 0, 0, 0, 1,\n       1, 0, 1, 0, 0, 0, 1, 1, 0, 1, 0, 1, 0, 0, 1, 1, 1, 0, 0, 0, 0, 0,\n       1, 1, 1, 0, 1, 1, 0, 0, 0, 0, 0, 0, 0, 0, 1, 1, 0, 0, 0, 1, 0, 0,\n       1, 1, 1, 0, 0, 1, 1, 1, 0, 0, 1, 1, 1, 1, 1, 0, 0, 0, 0, 0, 0, 0,\n       0, 0, 0, 1, 1, 0, 1, 0, 0, 0, 1, 0, 0, 1, 0, 0, 1, 1, 0, 1, 0, 1,\n       1, 1, 1, 1, 0, 1, 0, 0, 1, 0, 0, 0, 1, 1, 1, 0, 1, 0, 1, 1, 1, 1,\n       1, 0, 1, 1, 1, 1, 0, 1, 0, 1, 0, 1, 0, 0, 0, 0, 1, 0, 1, 0, 0, 1,\n       0, 0, 0, 0, 1, 1, 0, 1, 1, 0, 1, 1, 0, 0, 0, 1, 0, 0, 0, 1, 0, 1,\n       1, 1, 1, 1, 1, 1, 1, 0, 0, 1, 0, 0, 1, 1, 1, 0, 0, 0, 1, 0, 1, 1,\n       1, 1, 1, 1, 1, 1, 1, 0, 1, 0, 0, 0, 0, 0, 0, 0, 1, 0, 1, 0, 0, 1,\n       1, 0, 0, 1, 0, 0, 0, 0, 0, 0, 1, 0, 1, 1, 0, 0, 0, 1, 0, 1, 0, 1,\n       1, 1, 0, 0, 0, 0, 1, 0, 1, 1, 1, 1, 1, 0, 0, 0, 0, 1, 1, 0, 0, 0,\n       1, 0, 0, 1, 0, 1, 0, 0, 0, 0, 0, 1, 0, 1, 1, 1, 0, 0, 0, 1, 1, 1,\n       0, 0, 0, 0, 1, 0, 0, 1, 0, 0, 1, 0, 0, 1, 0, 1, 0, 0, 0, 0, 0, 0,\n       0, 0, 1, 0, 0, 0, 0, 0, 0, 0, 0, 0, 1, 0, 1, 0, 0, 0, 0, 0, 0, 0,\n       0, 0, 0, 0, 0, 0, 1, 0, 0, 0, 0, 0, 0, 1, 1, 0, 0, 0, 1, 0, 0, 1,\n       0, 1, 0, 0, 0, 0, 0, 0, 0, 1, 1, 0, 0, 0, 1, 1, 1, 1, 1, 1, 1, 0,\n       1, 0, 0, 0, 0, 1, 0, 1, 0, 0, 1, 1, 0, 0, 1, 0, 0, 0, 1, 0, 0, 1,\n       1, 1, 0, 0, 0, 0, 0, 0, 0, 0, 1, 1, 1, 1, 0, 1, 0, 0])"
     },
     "execution_count": 59,
     "metadata": {},
     "output_type": "execute_result"
    }
   ],
   "source": [
    "targets"
   ]
  },
  {
   "cell_type": "code",
   "execution_count": 60,
   "id": "f459d374",
   "metadata": {
    "ExecuteTime": {
     "end_time": "2023-09-21T15:51:50.489318600Z",
     "start_time": "2023-09-21T15:51:50.261884900Z"
    }
   },
   "outputs": [],
   "source": [
    "data_preprocessed['Excessive Absenteeism'] = targets"
   ]
  },
  {
   "cell_type": "code",
   "execution_count": 61,
   "id": "a48903c3",
   "metadata": {
    "ExecuteTime": {
     "end_time": "2023-09-21T15:51:50.643353200Z",
     "start_time": "2023-09-21T15:51:50.264795200Z"
    }
   },
   "outputs": [
    {
     "data": {
      "text/plain": "   Reason_1  Reason_2  Reason_3  Reason_4        Date  Transportation Expense  \\\n0         0         0         0         1  2015-07-07                     289   \n1         0         0         0         0  2015-07-14                     118   \n2         0         0         0         1  2015-07-15                     179   \n3         1         0         0         0  2015-07-16                     279   \n4         0         0         0         1  2015-07-23                     289   \n\n   Distance to Work  Age  Daily Work Load Average  Body Mass Index  Education  \\\n0                36   33                  239.554               30          0   \n1                13   50                  239.554               31          0   \n2                51   38                  239.554               31          0   \n3                 5   39                  239.554               24          0   \n4                36   33                  239.554               30          0   \n\n   Children  Pets  Absenteeism Time in Hours  Month Value  Day of the Week  \\\n0         2     1                          4            7                1   \n1         1     0                          0            7                1   \n2         0     0                          2            7                2   \n3         2     0                          4            7                3   \n4         2     1                          2            7                3   \n\n   Excessive Absenteeism  \n0                      1  \n1                      0  \n2                      0  \n3                      1  \n4                      0  ",
      "text/html": "<div>\n<style scoped>\n    .dataframe tbody tr th:only-of-type {\n        vertical-align: middle;\n    }\n\n    .dataframe tbody tr th {\n        vertical-align: top;\n    }\n\n    .dataframe thead th {\n        text-align: right;\n    }\n</style>\n<table border=\"1\" class=\"dataframe\">\n  <thead>\n    <tr style=\"text-align: right;\">\n      <th></th>\n      <th>Reason_1</th>\n      <th>Reason_2</th>\n      <th>Reason_3</th>\n      <th>Reason_4</th>\n      <th>Date</th>\n      <th>Transportation Expense</th>\n      <th>Distance to Work</th>\n      <th>Age</th>\n      <th>Daily Work Load Average</th>\n      <th>Body Mass Index</th>\n      <th>Education</th>\n      <th>Children</th>\n      <th>Pets</th>\n      <th>Absenteeism Time in Hours</th>\n      <th>Month Value</th>\n      <th>Day of the Week</th>\n      <th>Excessive Absenteeism</th>\n    </tr>\n  </thead>\n  <tbody>\n    <tr>\n      <th>0</th>\n      <td>0</td>\n      <td>0</td>\n      <td>0</td>\n      <td>1</td>\n      <td>2015-07-07</td>\n      <td>289</td>\n      <td>36</td>\n      <td>33</td>\n      <td>239.554</td>\n      <td>30</td>\n      <td>0</td>\n      <td>2</td>\n      <td>1</td>\n      <td>4</td>\n      <td>7</td>\n      <td>1</td>\n      <td>1</td>\n    </tr>\n    <tr>\n      <th>1</th>\n      <td>0</td>\n      <td>0</td>\n      <td>0</td>\n      <td>0</td>\n      <td>2015-07-14</td>\n      <td>118</td>\n      <td>13</td>\n      <td>50</td>\n      <td>239.554</td>\n      <td>31</td>\n      <td>0</td>\n      <td>1</td>\n      <td>0</td>\n      <td>0</td>\n      <td>7</td>\n      <td>1</td>\n      <td>0</td>\n    </tr>\n    <tr>\n      <th>2</th>\n      <td>0</td>\n      <td>0</td>\n      <td>0</td>\n      <td>1</td>\n      <td>2015-07-15</td>\n      <td>179</td>\n      <td>51</td>\n      <td>38</td>\n      <td>239.554</td>\n      <td>31</td>\n      <td>0</td>\n      <td>0</td>\n      <td>0</td>\n      <td>2</td>\n      <td>7</td>\n      <td>2</td>\n      <td>0</td>\n    </tr>\n    <tr>\n      <th>3</th>\n      <td>1</td>\n      <td>0</td>\n      <td>0</td>\n      <td>0</td>\n      <td>2015-07-16</td>\n      <td>279</td>\n      <td>5</td>\n      <td>39</td>\n      <td>239.554</td>\n      <td>24</td>\n      <td>0</td>\n      <td>2</td>\n      <td>0</td>\n      <td>4</td>\n      <td>7</td>\n      <td>3</td>\n      <td>1</td>\n    </tr>\n    <tr>\n      <th>4</th>\n      <td>0</td>\n      <td>0</td>\n      <td>0</td>\n      <td>1</td>\n      <td>2015-07-23</td>\n      <td>289</td>\n      <td>36</td>\n      <td>33</td>\n      <td>239.554</td>\n      <td>30</td>\n      <td>0</td>\n      <td>2</td>\n      <td>1</td>\n      <td>2</td>\n      <td>7</td>\n      <td>3</td>\n      <td>0</td>\n    </tr>\n  </tbody>\n</table>\n</div>"
     },
     "execution_count": 61,
     "metadata": {},
     "output_type": "execute_result"
    }
   ],
   "source": [
    "data_preprocessed.head()"
   ]
  },
  {
   "cell_type": "markdown",
   "id": "3394c6f8",
   "metadata": {},
   "source": [
    "### analysing targets"
   ]
  },
  {
   "cell_type": "code",
   "execution_count": 62,
   "id": "671e261f",
   "metadata": {
    "ExecuteTime": {
     "end_time": "2023-09-21T15:51:50.681361600Z",
     "start_time": "2023-09-21T15:51:50.272791200Z"
    }
   },
   "outputs": [
    {
     "data": {
      "text/plain": "0.45571428571428574"
     },
     "execution_count": 62,
     "metadata": {},
     "output_type": "execute_result"
    }
   ],
   "source": [
    "targets.sum() / targets.shape[0]"
   ]
  },
  {
   "cell_type": "code",
   "execution_count": 63,
   "id": "69ce3959",
   "metadata": {
    "ExecuteTime": {
     "end_time": "2023-09-21T15:51:50.703366700Z",
     "start_time": "2023-09-21T15:51:50.277527800Z"
    }
   },
   "outputs": [],
   "source": [
    "data_with_targets = data_preprocessed.drop(['Excessive Absenteeism'], axis=1)\n",
    "data_with_targets = data_with_targets.drop(['Date'], axis=1)"
   ]
  },
  {
   "cell_type": "code",
   "execution_count": 64,
   "id": "fe4134c7",
   "metadata": {
    "ExecuteTime": {
     "end_time": "2023-09-21T15:51:50.708367700Z",
     "start_time": "2023-09-21T15:51:50.282112900Z"
    }
   },
   "outputs": [
    {
     "data": {
      "text/plain": "False"
     },
     "execution_count": 64,
     "metadata": {},
     "output_type": "execute_result"
    }
   ],
   "source": [
    "data_with_targets is data_preprocessed"
   ]
  },
  {
   "cell_type": "code",
   "execution_count": 65,
   "id": "2dc00eda",
   "metadata": {
    "ExecuteTime": {
     "end_time": "2023-09-21T15:51:50.716369500Z",
     "start_time": "2023-09-21T15:51:50.284161600Z"
    }
   },
   "outputs": [
    {
     "data": {
      "text/plain": "   Reason_1  Reason_2  Reason_3  Reason_4  Transportation Expense  \\\n0         0         0         0         1                     289   \n1         0         0         0         0                     118   \n2         0         0         0         1                     179   \n3         1         0         0         0                     279   \n4         0         0         0         1                     289   \n\n   Distance to Work  Age  Daily Work Load Average  Body Mass Index  Education  \\\n0                36   33                  239.554               30          0   \n1                13   50                  239.554               31          0   \n2                51   38                  239.554               31          0   \n3                 5   39                  239.554               24          0   \n4                36   33                  239.554               30          0   \n\n   Children  Pets  Absenteeism Time in Hours  Month Value  Day of the Week  \n0         2     1                          4            7                1  \n1         1     0                          0            7                1  \n2         0     0                          2            7                2  \n3         2     0                          4            7                3  \n4         2     1                          2            7                3  ",
      "text/html": "<div>\n<style scoped>\n    .dataframe tbody tr th:only-of-type {\n        vertical-align: middle;\n    }\n\n    .dataframe tbody tr th {\n        vertical-align: top;\n    }\n\n    .dataframe thead th {\n        text-align: right;\n    }\n</style>\n<table border=\"1\" class=\"dataframe\">\n  <thead>\n    <tr style=\"text-align: right;\">\n      <th></th>\n      <th>Reason_1</th>\n      <th>Reason_2</th>\n      <th>Reason_3</th>\n      <th>Reason_4</th>\n      <th>Transportation Expense</th>\n      <th>Distance to Work</th>\n      <th>Age</th>\n      <th>Daily Work Load Average</th>\n      <th>Body Mass Index</th>\n      <th>Education</th>\n      <th>Children</th>\n      <th>Pets</th>\n      <th>Absenteeism Time in Hours</th>\n      <th>Month Value</th>\n      <th>Day of the Week</th>\n    </tr>\n  </thead>\n  <tbody>\n    <tr>\n      <th>0</th>\n      <td>0</td>\n      <td>0</td>\n      <td>0</td>\n      <td>1</td>\n      <td>289</td>\n      <td>36</td>\n      <td>33</td>\n      <td>239.554</td>\n      <td>30</td>\n      <td>0</td>\n      <td>2</td>\n      <td>1</td>\n      <td>4</td>\n      <td>7</td>\n      <td>1</td>\n    </tr>\n    <tr>\n      <th>1</th>\n      <td>0</td>\n      <td>0</td>\n      <td>0</td>\n      <td>0</td>\n      <td>118</td>\n      <td>13</td>\n      <td>50</td>\n      <td>239.554</td>\n      <td>31</td>\n      <td>0</td>\n      <td>1</td>\n      <td>0</td>\n      <td>0</td>\n      <td>7</td>\n      <td>1</td>\n    </tr>\n    <tr>\n      <th>2</th>\n      <td>0</td>\n      <td>0</td>\n      <td>0</td>\n      <td>1</td>\n      <td>179</td>\n      <td>51</td>\n      <td>38</td>\n      <td>239.554</td>\n      <td>31</td>\n      <td>0</td>\n      <td>0</td>\n      <td>0</td>\n      <td>2</td>\n      <td>7</td>\n      <td>2</td>\n    </tr>\n    <tr>\n      <th>3</th>\n      <td>1</td>\n      <td>0</td>\n      <td>0</td>\n      <td>0</td>\n      <td>279</td>\n      <td>5</td>\n      <td>39</td>\n      <td>239.554</td>\n      <td>24</td>\n      <td>0</td>\n      <td>2</td>\n      <td>0</td>\n      <td>4</td>\n      <td>7</td>\n      <td>3</td>\n    </tr>\n    <tr>\n      <th>4</th>\n      <td>0</td>\n      <td>0</td>\n      <td>0</td>\n      <td>1</td>\n      <td>289</td>\n      <td>36</td>\n      <td>33</td>\n      <td>239.554</td>\n      <td>30</td>\n      <td>0</td>\n      <td>2</td>\n      <td>1</td>\n      <td>2</td>\n      <td>7</td>\n      <td>3</td>\n    </tr>\n  </tbody>\n</table>\n</div>"
     },
     "execution_count": 65,
     "metadata": {},
     "output_type": "execute_result"
    }
   ],
   "source": [
    "data_with_targets.head()"
   ]
  },
  {
   "cell_type": "markdown",
   "id": "afe9973f",
   "metadata": {},
   "source": [
    "### selecting inputs for the regression"
   ]
  },
  {
   "cell_type": "code",
   "execution_count": 66,
   "id": "6ef77fd1",
   "metadata": {
    "ExecuteTime": {
     "end_time": "2023-09-21T15:51:50.731372700Z",
     "start_time": "2023-09-21T15:51:50.291986600Z"
    }
   },
   "outputs": [
    {
     "data": {
      "text/plain": "(700, 15)"
     },
     "execution_count": 66,
     "metadata": {},
     "output_type": "execute_result"
    }
   ],
   "source": [
    "data_with_targets.shape"
   ]
  },
  {
   "cell_type": "code",
   "execution_count": 67,
   "id": "55802b67",
   "metadata": {
    "ExecuteTime": {
     "end_time": "2023-09-21T15:51:50.732373100Z",
     "start_time": "2023-09-21T15:51:50.294307800Z"
    }
   },
   "outputs": [
    {
     "data": {
      "text/plain": "     Reason_1  Reason_2  Reason_3  Reason_4  Transportation Expense  \\\n0           0         0         0         1                     289   \n1           0         0         0         0                     118   \n2           0         0         0         1                     179   \n3           1         0         0         0                     279   \n4           0         0         0         1                     289   \n..        ...       ...       ...       ...                     ...   \n695         1         0         0         0                     179   \n696         1         0         0         0                     225   \n697         1         0         0         0                     330   \n698         0         0         0         1                     235   \n699         0         0         0         1                     291   \n\n     Distance to Work  Age  Daily Work Load Average  Body Mass Index  \\\n0                  36   33                  239.554               30   \n1                  13   50                  239.554               31   \n2                  51   38                  239.554               31   \n3                   5   39                  239.554               24   \n4                  36   33                  239.554               30   \n..                ...  ...                      ...              ...   \n695                22   40                  237.656               22   \n696                26   28                  237.656               24   \n697                16   28                  237.656               25   \n698                16   32                  237.656               25   \n699                31   40                  237.656               25   \n\n     Education  Children  Pets  Absenteeism Time in Hours  Month Value  \n0            0         2     1                          4            7  \n1            0         1     0                          0            7  \n2            0         0     0                          2            7  \n3            0         2     0                          4            7  \n4            0         2     1                          2            7  \n..         ...       ...   ...                        ...          ...  \n695          1         2     0                          8            5  \n696          0         1     2                          3            5  \n697          1         0     0                          8            5  \n698          1         0     0                          2            5  \n699          0         1     1                          2            5  \n\n[700 rows x 14 columns]",
      "text/html": "<div>\n<style scoped>\n    .dataframe tbody tr th:only-of-type {\n        vertical-align: middle;\n    }\n\n    .dataframe tbody tr th {\n        vertical-align: top;\n    }\n\n    .dataframe thead th {\n        text-align: right;\n    }\n</style>\n<table border=\"1\" class=\"dataframe\">\n  <thead>\n    <tr style=\"text-align: right;\">\n      <th></th>\n      <th>Reason_1</th>\n      <th>Reason_2</th>\n      <th>Reason_3</th>\n      <th>Reason_4</th>\n      <th>Transportation Expense</th>\n      <th>Distance to Work</th>\n      <th>Age</th>\n      <th>Daily Work Load Average</th>\n      <th>Body Mass Index</th>\n      <th>Education</th>\n      <th>Children</th>\n      <th>Pets</th>\n      <th>Absenteeism Time in Hours</th>\n      <th>Month Value</th>\n    </tr>\n  </thead>\n  <tbody>\n    <tr>\n      <th>0</th>\n      <td>0</td>\n      <td>0</td>\n      <td>0</td>\n      <td>1</td>\n      <td>289</td>\n      <td>36</td>\n      <td>33</td>\n      <td>239.554</td>\n      <td>30</td>\n      <td>0</td>\n      <td>2</td>\n      <td>1</td>\n      <td>4</td>\n      <td>7</td>\n    </tr>\n    <tr>\n      <th>1</th>\n      <td>0</td>\n      <td>0</td>\n      <td>0</td>\n      <td>0</td>\n      <td>118</td>\n      <td>13</td>\n      <td>50</td>\n      <td>239.554</td>\n      <td>31</td>\n      <td>0</td>\n      <td>1</td>\n      <td>0</td>\n      <td>0</td>\n      <td>7</td>\n    </tr>\n    <tr>\n      <th>2</th>\n      <td>0</td>\n      <td>0</td>\n      <td>0</td>\n      <td>1</td>\n      <td>179</td>\n      <td>51</td>\n      <td>38</td>\n      <td>239.554</td>\n      <td>31</td>\n      <td>0</td>\n      <td>0</td>\n      <td>0</td>\n      <td>2</td>\n      <td>7</td>\n    </tr>\n    <tr>\n      <th>3</th>\n      <td>1</td>\n      <td>0</td>\n      <td>0</td>\n      <td>0</td>\n      <td>279</td>\n      <td>5</td>\n      <td>39</td>\n      <td>239.554</td>\n      <td>24</td>\n      <td>0</td>\n      <td>2</td>\n      <td>0</td>\n      <td>4</td>\n      <td>7</td>\n    </tr>\n    <tr>\n      <th>4</th>\n      <td>0</td>\n      <td>0</td>\n      <td>0</td>\n      <td>1</td>\n      <td>289</td>\n      <td>36</td>\n      <td>33</td>\n      <td>239.554</td>\n      <td>30</td>\n      <td>0</td>\n      <td>2</td>\n      <td>1</td>\n      <td>2</td>\n      <td>7</td>\n    </tr>\n    <tr>\n      <th>...</th>\n      <td>...</td>\n      <td>...</td>\n      <td>...</td>\n      <td>...</td>\n      <td>...</td>\n      <td>...</td>\n      <td>...</td>\n      <td>...</td>\n      <td>...</td>\n      <td>...</td>\n      <td>...</td>\n      <td>...</td>\n      <td>...</td>\n      <td>...</td>\n    </tr>\n    <tr>\n      <th>695</th>\n      <td>1</td>\n      <td>0</td>\n      <td>0</td>\n      <td>0</td>\n      <td>179</td>\n      <td>22</td>\n      <td>40</td>\n      <td>237.656</td>\n      <td>22</td>\n      <td>1</td>\n      <td>2</td>\n      <td>0</td>\n      <td>8</td>\n      <td>5</td>\n    </tr>\n    <tr>\n      <th>696</th>\n      <td>1</td>\n      <td>0</td>\n      <td>0</td>\n      <td>0</td>\n      <td>225</td>\n      <td>26</td>\n      <td>28</td>\n      <td>237.656</td>\n      <td>24</td>\n      <td>0</td>\n      <td>1</td>\n      <td>2</td>\n      <td>3</td>\n      <td>5</td>\n    </tr>\n    <tr>\n      <th>697</th>\n      <td>1</td>\n      <td>0</td>\n      <td>0</td>\n      <td>0</td>\n      <td>330</td>\n      <td>16</td>\n      <td>28</td>\n      <td>237.656</td>\n      <td>25</td>\n      <td>1</td>\n      <td>0</td>\n      <td>0</td>\n      <td>8</td>\n      <td>5</td>\n    </tr>\n    <tr>\n      <th>698</th>\n      <td>0</td>\n      <td>0</td>\n      <td>0</td>\n      <td>1</td>\n      <td>235</td>\n      <td>16</td>\n      <td>32</td>\n      <td>237.656</td>\n      <td>25</td>\n      <td>1</td>\n      <td>0</td>\n      <td>0</td>\n      <td>2</td>\n      <td>5</td>\n    </tr>\n    <tr>\n      <th>699</th>\n      <td>0</td>\n      <td>0</td>\n      <td>0</td>\n      <td>1</td>\n      <td>291</td>\n      <td>31</td>\n      <td>40</td>\n      <td>237.656</td>\n      <td>25</td>\n      <td>0</td>\n      <td>1</td>\n      <td>1</td>\n      <td>2</td>\n      <td>5</td>\n    </tr>\n  </tbody>\n</table>\n<p>700 rows × 14 columns</p>\n</div>"
     },
     "execution_count": 67,
     "metadata": {},
     "output_type": "execute_result"
    }
   ],
   "source": [
    "data_with_targets.iloc[:,:14]"
   ]
  },
  {
   "cell_type": "code",
   "execution_count": 68,
   "id": "f7bb692e",
   "metadata": {
    "ExecuteTime": {
     "end_time": "2023-09-21T15:51:50.751377400Z",
     "start_time": "2023-09-21T15:51:50.303667100Z"
    }
   },
   "outputs": [
    {
     "data": {
      "text/plain": "     Reason_1  Reason_2  Reason_3  Reason_4  Transportation Expense  \\\n0           0         0         0         1                     289   \n1           0         0         0         0                     118   \n2           0         0         0         1                     179   \n3           1         0         0         0                     279   \n4           0         0         0         1                     289   \n..        ...       ...       ...       ...                     ...   \n695         1         0         0         0                     179   \n696         1         0         0         0                     225   \n697         1         0         0         0                     330   \n698         0         0         0         1                     235   \n699         0         0         0         1                     291   \n\n     Distance to Work  Age  Daily Work Load Average  Body Mass Index  \\\n0                  36   33                  239.554               30   \n1                  13   50                  239.554               31   \n2                  51   38                  239.554               31   \n3                   5   39                  239.554               24   \n4                  36   33                  239.554               30   \n..                ...  ...                      ...              ...   \n695                22   40                  237.656               22   \n696                26   28                  237.656               24   \n697                16   28                  237.656               25   \n698                16   32                  237.656               25   \n699                31   40                  237.656               25   \n\n     Education  Children  Pets  \n0            0         2     1  \n1            0         1     0  \n2            0         0     0  \n3            0         2     0  \n4            0         2     1  \n..         ...       ...   ...  \n695          1         2     0  \n696          0         1     2  \n697          1         0     0  \n698          1         0     0  \n699          0         1     1  \n\n[700 rows x 12 columns]",
      "text/html": "<div>\n<style scoped>\n    .dataframe tbody tr th:only-of-type {\n        vertical-align: middle;\n    }\n\n    .dataframe tbody tr th {\n        vertical-align: top;\n    }\n\n    .dataframe thead th {\n        text-align: right;\n    }\n</style>\n<table border=\"1\" class=\"dataframe\">\n  <thead>\n    <tr style=\"text-align: right;\">\n      <th></th>\n      <th>Reason_1</th>\n      <th>Reason_2</th>\n      <th>Reason_3</th>\n      <th>Reason_4</th>\n      <th>Transportation Expense</th>\n      <th>Distance to Work</th>\n      <th>Age</th>\n      <th>Daily Work Load Average</th>\n      <th>Body Mass Index</th>\n      <th>Education</th>\n      <th>Children</th>\n      <th>Pets</th>\n    </tr>\n  </thead>\n  <tbody>\n    <tr>\n      <th>0</th>\n      <td>0</td>\n      <td>0</td>\n      <td>0</td>\n      <td>1</td>\n      <td>289</td>\n      <td>36</td>\n      <td>33</td>\n      <td>239.554</td>\n      <td>30</td>\n      <td>0</td>\n      <td>2</td>\n      <td>1</td>\n    </tr>\n    <tr>\n      <th>1</th>\n      <td>0</td>\n      <td>0</td>\n      <td>0</td>\n      <td>0</td>\n      <td>118</td>\n      <td>13</td>\n      <td>50</td>\n      <td>239.554</td>\n      <td>31</td>\n      <td>0</td>\n      <td>1</td>\n      <td>0</td>\n    </tr>\n    <tr>\n      <th>2</th>\n      <td>0</td>\n      <td>0</td>\n      <td>0</td>\n      <td>1</td>\n      <td>179</td>\n      <td>51</td>\n      <td>38</td>\n      <td>239.554</td>\n      <td>31</td>\n      <td>0</td>\n      <td>0</td>\n      <td>0</td>\n    </tr>\n    <tr>\n      <th>3</th>\n      <td>1</td>\n      <td>0</td>\n      <td>0</td>\n      <td>0</td>\n      <td>279</td>\n      <td>5</td>\n      <td>39</td>\n      <td>239.554</td>\n      <td>24</td>\n      <td>0</td>\n      <td>2</td>\n      <td>0</td>\n    </tr>\n    <tr>\n      <th>4</th>\n      <td>0</td>\n      <td>0</td>\n      <td>0</td>\n      <td>1</td>\n      <td>289</td>\n      <td>36</td>\n      <td>33</td>\n      <td>239.554</td>\n      <td>30</td>\n      <td>0</td>\n      <td>2</td>\n      <td>1</td>\n    </tr>\n    <tr>\n      <th>...</th>\n      <td>...</td>\n      <td>...</td>\n      <td>...</td>\n      <td>...</td>\n      <td>...</td>\n      <td>...</td>\n      <td>...</td>\n      <td>...</td>\n      <td>...</td>\n      <td>...</td>\n      <td>...</td>\n      <td>...</td>\n    </tr>\n    <tr>\n      <th>695</th>\n      <td>1</td>\n      <td>0</td>\n      <td>0</td>\n      <td>0</td>\n      <td>179</td>\n      <td>22</td>\n      <td>40</td>\n      <td>237.656</td>\n      <td>22</td>\n      <td>1</td>\n      <td>2</td>\n      <td>0</td>\n    </tr>\n    <tr>\n      <th>696</th>\n      <td>1</td>\n      <td>0</td>\n      <td>0</td>\n      <td>0</td>\n      <td>225</td>\n      <td>26</td>\n      <td>28</td>\n      <td>237.656</td>\n      <td>24</td>\n      <td>0</td>\n      <td>1</td>\n      <td>2</td>\n    </tr>\n    <tr>\n      <th>697</th>\n      <td>1</td>\n      <td>0</td>\n      <td>0</td>\n      <td>0</td>\n      <td>330</td>\n      <td>16</td>\n      <td>28</td>\n      <td>237.656</td>\n      <td>25</td>\n      <td>1</td>\n      <td>0</td>\n      <td>0</td>\n    </tr>\n    <tr>\n      <th>698</th>\n      <td>0</td>\n      <td>0</td>\n      <td>0</td>\n      <td>1</td>\n      <td>235</td>\n      <td>16</td>\n      <td>32</td>\n      <td>237.656</td>\n      <td>25</td>\n      <td>1</td>\n      <td>0</td>\n      <td>0</td>\n    </tr>\n    <tr>\n      <th>699</th>\n      <td>0</td>\n      <td>0</td>\n      <td>0</td>\n      <td>1</td>\n      <td>291</td>\n      <td>31</td>\n      <td>40</td>\n      <td>237.656</td>\n      <td>25</td>\n      <td>0</td>\n      <td>1</td>\n      <td>1</td>\n    </tr>\n  </tbody>\n</table>\n<p>700 rows × 12 columns</p>\n</div>"
     },
     "execution_count": 68,
     "metadata": {},
     "output_type": "execute_result"
    }
   ],
   "source": [
    "data_with_targets.iloc[:,:-3]"
   ]
  },
  {
   "cell_type": "code",
   "execution_count": 69,
   "id": "28ba3a59",
   "metadata": {
    "ExecuteTime": {
     "end_time": "2023-09-21T15:51:50.751377400Z",
     "start_time": "2023-09-21T15:51:50.311635500Z"
    }
   },
   "outputs": [],
   "source": [
    "#unscaled_inputs = data_with_targets.iloc[:,:-3]\n",
    "unscaled_inputs = data_with_targets.drop(['Absenteeism Time in Hours'], axis=1)"
   ]
  },
  {
   "cell_type": "code",
   "execution_count": 70,
   "id": "12cf0152",
   "metadata": {
    "ExecuteTime": {
     "end_time": "2023-09-21T15:51:50.754378100Z",
     "start_time": "2023-09-21T15:51:50.313832900Z"
    }
   },
   "outputs": [
    {
     "data": {
      "text/plain": "   Reason_1  Reason_2  Reason_3  Reason_4  Transportation Expense  \\\n0         0         0         0         1                     289   \n1         0         0         0         0                     118   \n2         0         0         0         1                     179   \n3         1         0         0         0                     279   \n4         0         0         0         1                     289   \n\n   Distance to Work  Age  Daily Work Load Average  Body Mass Index  Education  \\\n0                36   33                  239.554               30          0   \n1                13   50                  239.554               31          0   \n2                51   38                  239.554               31          0   \n3                 5   39                  239.554               24          0   \n4                36   33                  239.554               30          0   \n\n   Children  Pets  Month Value  Day of the Week  \n0         2     1            7                1  \n1         1     0            7                1  \n2         0     0            7                2  \n3         2     0            7                3  \n4         2     1            7                3  ",
      "text/html": "<div>\n<style scoped>\n    .dataframe tbody tr th:only-of-type {\n        vertical-align: middle;\n    }\n\n    .dataframe tbody tr th {\n        vertical-align: top;\n    }\n\n    .dataframe thead th {\n        text-align: right;\n    }\n</style>\n<table border=\"1\" class=\"dataframe\">\n  <thead>\n    <tr style=\"text-align: right;\">\n      <th></th>\n      <th>Reason_1</th>\n      <th>Reason_2</th>\n      <th>Reason_3</th>\n      <th>Reason_4</th>\n      <th>Transportation Expense</th>\n      <th>Distance to Work</th>\n      <th>Age</th>\n      <th>Daily Work Load Average</th>\n      <th>Body Mass Index</th>\n      <th>Education</th>\n      <th>Children</th>\n      <th>Pets</th>\n      <th>Month Value</th>\n      <th>Day of the Week</th>\n    </tr>\n  </thead>\n  <tbody>\n    <tr>\n      <th>0</th>\n      <td>0</td>\n      <td>0</td>\n      <td>0</td>\n      <td>1</td>\n      <td>289</td>\n      <td>36</td>\n      <td>33</td>\n      <td>239.554</td>\n      <td>30</td>\n      <td>0</td>\n      <td>2</td>\n      <td>1</td>\n      <td>7</td>\n      <td>1</td>\n    </tr>\n    <tr>\n      <th>1</th>\n      <td>0</td>\n      <td>0</td>\n      <td>0</td>\n      <td>0</td>\n      <td>118</td>\n      <td>13</td>\n      <td>50</td>\n      <td>239.554</td>\n      <td>31</td>\n      <td>0</td>\n      <td>1</td>\n      <td>0</td>\n      <td>7</td>\n      <td>1</td>\n    </tr>\n    <tr>\n      <th>2</th>\n      <td>0</td>\n      <td>0</td>\n      <td>0</td>\n      <td>1</td>\n      <td>179</td>\n      <td>51</td>\n      <td>38</td>\n      <td>239.554</td>\n      <td>31</td>\n      <td>0</td>\n      <td>0</td>\n      <td>0</td>\n      <td>7</td>\n      <td>2</td>\n    </tr>\n    <tr>\n      <th>3</th>\n      <td>1</td>\n      <td>0</td>\n      <td>0</td>\n      <td>0</td>\n      <td>279</td>\n      <td>5</td>\n      <td>39</td>\n      <td>239.554</td>\n      <td>24</td>\n      <td>0</td>\n      <td>2</td>\n      <td>0</td>\n      <td>7</td>\n      <td>3</td>\n    </tr>\n    <tr>\n      <th>4</th>\n      <td>0</td>\n      <td>0</td>\n      <td>0</td>\n      <td>1</td>\n      <td>289</td>\n      <td>36</td>\n      <td>33</td>\n      <td>239.554</td>\n      <td>30</td>\n      <td>0</td>\n      <td>2</td>\n      <td>1</td>\n      <td>7</td>\n      <td>3</td>\n    </tr>\n  </tbody>\n</table>\n</div>"
     },
     "execution_count": 70,
     "metadata": {},
     "output_type": "execute_result"
    }
   ],
   "source": [
    "unscaled_inputs.head()"
   ]
  },
  {
   "cell_type": "markdown",
   "id": "105ba3de",
   "metadata": {},
   "source": [
    "### standardizing the data"
   ]
  },
  {
   "cell_type": "code",
   "execution_count": 71,
   "id": "b95549e0",
   "metadata": {
    "ExecuteTime": {
     "end_time": "2023-09-21T15:51:50.754378100Z",
     "start_time": "2023-09-21T15:51:50.324001200Z"
    }
   },
   "outputs": [],
   "source": [
    "#from sklearn.preprocessing import StandardScaler\n",
    "\n",
    "#absenteeism_scaler = StandardScaler()\n",
    "\n",
    "from sklearn.base import BaseEstimator, TransformerMixin\n",
    "from sklearn.preprocessing import StandardScaler\n",
    "\n",
    "# create the Custom Scaler class\n",
    "\n",
    "class CustomScaler(BaseEstimator,TransformerMixin):   \n",
    "\n",
    "    # init or what information we need to declare a CustomScaler object\n",
    "    # and what is calculated/declared as we do\n",
    "\n",
    "    def __init__(self,columns):   \n",
    "        # scaler is nothing but a Standard Scaler object\n",
    "        self.scaler = StandardScaler()\n",
    "        # with some columns 'twist'\n",
    "        self.columns = columns     \n",
    "\n",
    "\n",
    "    # the fit method, which, again based on StandardScale\n",
    "    def fit(self, X, y=None):\n",
    "        self.scaler.fit(X[self.columns], y)\n",
    "        self.mean_ = np.mean(X[self.columns])\n",
    "        self.var_ = np.var(X[self.columns])\n",
    "        return self\n",
    "\n",
    "    # the transform method which does the actual scaling\n",
    "    def transform(self, X, y=None):\n",
    "        # record the initial order of the columns\n",
    "        init_col_order = X.columns  \n",
    "        print(self.columns)\n",
    "        # scale all features that you chose when creating the instance of the class\n",
    "        X_scaled = pd.DataFrame(self.scaler.transform(X[self.columns]), columns=self.columns)\n",
    "         # declare a variable containing all information that was not scaled\n",
    "        X_not_scaled = X.loc[:,~X.columns.isin(self.columns)]\n",
    "        # return a data frame which contains all scaled features and all 'not scaled' features\n",
    "        # use the original order (that you recorded in the beginning)\n",
    "        return pd.concat([X_not_scaled, X_scaled], axis=1)[init_col_order]"
   ]
  },
  {
   "cell_type": "code",
   "execution_count": 72,
   "id": "8f592056",
   "metadata": {
    "ExecuteTime": {
     "end_time": "2023-09-21T15:51:50.754378100Z",
     "start_time": "2023-09-21T15:51:50.327860100Z"
    }
   },
   "outputs": [
    {
     "data": {
      "text/plain": "array(['Reason_1', 'Reason_2', 'Reason_3', 'Reason_4',\n       'Transportation Expense', 'Distance to Work', 'Age',\n       'Daily Work Load Average', 'Body Mass Index', 'Education',\n       'Children', 'Pets', 'Month Value', 'Day of the Week'], dtype=object)"
     },
     "execution_count": 72,
     "metadata": {},
     "output_type": "execute_result"
    }
   ],
   "source": [
    "unscaled_inputs.columns.values"
   ]
  },
  {
   "cell_type": "code",
   "execution_count": 73,
   "id": "1c9dbb6f",
   "metadata": {
    "ExecuteTime": {
     "end_time": "2023-09-21T15:51:50.754378100Z",
     "start_time": "2023-09-21T15:51:50.331020800Z"
    }
   },
   "outputs": [],
   "source": [
    "columns_to_scale = ['Reason_1', 'Reason_2', 'Reason_3', 'Reason_4',\n",
    "       'Transportation Expense', 'Distance to Work', 'Age',\n",
    "       'Daily Work Load Average', 'Body Mass Index', 'Education',\n",
    "       'Children', 'Pets', 'Month Value', 'Day of the Week']"
   ]
  },
  {
   "cell_type": "code",
   "execution_count": 74,
   "id": "7a3bc23d",
   "metadata": {
    "ExecuteTime": {
     "end_time": "2023-09-21T15:51:50.754378100Z",
     "start_time": "2023-09-21T15:51:50.335092200Z"
    }
   },
   "outputs": [],
   "source": [
    "absenteeism_scaler = CustomScaler(columns_to_scale)"
   ]
  },
  {
   "cell_type": "code",
   "execution_count": 74,
   "id": "6ac4e92f",
   "metadata": {
    "ExecuteTime": {
     "end_time": "2023-09-21T15:51:50.754378100Z",
     "start_time": "2023-09-21T15:51:50.338210600Z"
    }
   },
   "outputs": [],
   "source": []
  },
  {
   "cell_type": "code",
   "execution_count": 74,
   "id": "adfb491e",
   "metadata": {
    "ExecuteTime": {
     "end_time": "2023-09-21T15:51:50.755378700Z",
     "start_time": "2023-09-21T15:51:50.339937200Z"
    }
   },
   "outputs": [],
   "source": []
  },
  {
   "cell_type": "code",
   "execution_count": 75,
   "id": "8486ecc1",
   "metadata": {
    "ExecuteTime": {
     "end_time": "2023-09-21T15:51:50.756378400Z",
     "start_time": "2023-09-21T15:51:50.344441200Z"
    }
   },
   "outputs": [
    {
     "name": "stderr",
     "output_type": "stream",
     "text": [
      "C:\\Users\\luiss\\AppData\\Local\\Programs\\Python\\Python311\\Lib\\site-packages\\sklearn\\utils\\validation.py:757: FutureWarning: is_sparse is deprecated and will be removed in a future version. Check `isinstance(dtype, pd.SparseDtype)` instead.\n",
      "  if not hasattr(array, \"sparse\") and array.dtypes.apply(is_sparse).any():\n",
      "C:\\Users\\luiss\\AppData\\Local\\Programs\\Python\\Python311\\Lib\\site-packages\\sklearn\\utils\\validation.py:595: FutureWarning: is_sparse is deprecated and will be removed in a future version. Check `isinstance(dtype, pd.SparseDtype)` instead.\n",
      "  if is_sparse(pd_dtype):\n",
      "C:\\Users\\luiss\\AppData\\Local\\Programs\\Python\\Python311\\Lib\\site-packages\\sklearn\\utils\\validation.py:604: FutureWarning: is_sparse is deprecated and will be removed in a future version. Check `isinstance(dtype, pd.SparseDtype)` instead.\n",
      "  if is_sparse(pd_dtype) or not is_extension_array_dtype(pd_dtype):\n",
      "C:\\Users\\luiss\\AppData\\Local\\Programs\\Python\\Python311\\Lib\\site-packages\\numpy\\core\\fromnumeric.py:3785: FutureWarning: The behavior of DataFrame.var with axis=None is deprecated, in a future version this will reduce over both axes and return a scalar. To retain the old behavior, pass axis=0 (or do not pass axis)\n",
      "  return var(axis=axis, dtype=dtype, out=out, ddof=ddof, **kwargs)\n"
     ]
    },
    {
     "data": {
      "text/plain": "CustomScaler(columns=['Reason_1', 'Reason_2', 'Reason_3', 'Reason_4',\n                      'Transportation Expense', 'Distance to Work', 'Age',\n                      'Daily Work Load Average', 'Body Mass Index', 'Education',\n                      'Children', 'Pets', 'Month Value', 'Day of the Week'])",
      "text/html": "<style>#sk-container-id-3 {color: black;background-color: white;}#sk-container-id-3 pre{padding: 0;}#sk-container-id-3 div.sk-toggleable {background-color: white;}#sk-container-id-3 label.sk-toggleable__label {cursor: pointer;display: block;width: 100%;margin-bottom: 0;padding: 0.3em;box-sizing: border-box;text-align: center;}#sk-container-id-3 label.sk-toggleable__label-arrow:before {content: \"▸\";float: left;margin-right: 0.25em;color: #696969;}#sk-container-id-3 label.sk-toggleable__label-arrow:hover:before {color: black;}#sk-container-id-3 div.sk-estimator:hover label.sk-toggleable__label-arrow:before {color: black;}#sk-container-id-3 div.sk-toggleable__content {max-height: 0;max-width: 0;overflow: hidden;text-align: left;background-color: #f0f8ff;}#sk-container-id-3 div.sk-toggleable__content pre {margin: 0.2em;color: black;border-radius: 0.25em;background-color: #f0f8ff;}#sk-container-id-3 input.sk-toggleable__control:checked~div.sk-toggleable__content {max-height: 200px;max-width: 100%;overflow: auto;}#sk-container-id-3 input.sk-toggleable__control:checked~label.sk-toggleable__label-arrow:before {content: \"▾\";}#sk-container-id-3 div.sk-estimator input.sk-toggleable__control:checked~label.sk-toggleable__label {background-color: #d4ebff;}#sk-container-id-3 div.sk-label input.sk-toggleable__control:checked~label.sk-toggleable__label {background-color: #d4ebff;}#sk-container-id-3 input.sk-hidden--visually {border: 0;clip: rect(1px 1px 1px 1px);clip: rect(1px, 1px, 1px, 1px);height: 1px;margin: -1px;overflow: hidden;padding: 0;position: absolute;width: 1px;}#sk-container-id-3 div.sk-estimator {font-family: monospace;background-color: #f0f8ff;border: 1px dotted black;border-radius: 0.25em;box-sizing: border-box;margin-bottom: 0.5em;}#sk-container-id-3 div.sk-estimator:hover {background-color: #d4ebff;}#sk-container-id-3 div.sk-parallel-item::after {content: \"\";width: 100%;border-bottom: 1px solid gray;flex-grow: 1;}#sk-container-id-3 div.sk-label:hover label.sk-toggleable__label {background-color: #d4ebff;}#sk-container-id-3 div.sk-serial::before {content: \"\";position: absolute;border-left: 1px solid gray;box-sizing: border-box;top: 0;bottom: 0;left: 50%;z-index: 0;}#sk-container-id-3 div.sk-serial {display: flex;flex-direction: column;align-items: center;background-color: white;padding-right: 0.2em;padding-left: 0.2em;position: relative;}#sk-container-id-3 div.sk-item {position: relative;z-index: 1;}#sk-container-id-3 div.sk-parallel {display: flex;align-items: stretch;justify-content: center;background-color: white;position: relative;}#sk-container-id-3 div.sk-item::before, #sk-container-id-3 div.sk-parallel-item::before {content: \"\";position: absolute;border-left: 1px solid gray;box-sizing: border-box;top: 0;bottom: 0;left: 50%;z-index: -1;}#sk-container-id-3 div.sk-parallel-item {display: flex;flex-direction: column;z-index: 1;position: relative;background-color: white;}#sk-container-id-3 div.sk-parallel-item:first-child::after {align-self: flex-end;width: 50%;}#sk-container-id-3 div.sk-parallel-item:last-child::after {align-self: flex-start;width: 50%;}#sk-container-id-3 div.sk-parallel-item:only-child::after {width: 0;}#sk-container-id-3 div.sk-dashed-wrapped {border: 1px dashed gray;margin: 0 0.4em 0.5em 0.4em;box-sizing: border-box;padding-bottom: 0.4em;background-color: white;}#sk-container-id-3 div.sk-label label {font-family: monospace;font-weight: bold;display: inline-block;line-height: 1.2em;}#sk-container-id-3 div.sk-label-container {text-align: center;}#sk-container-id-3 div.sk-container {/* jupyter's `normalize.less` sets `[hidden] { display: none; }` but bootstrap.min.css set `[hidden] { display: none !important; }` so we also need the `!important` here to be able to override the default hidden behavior on the sphinx rendered scikit-learn.org. See: https://github.com/scikit-learn/scikit-learn/issues/21755 */display: inline-block !important;position: relative;}#sk-container-id-3 div.sk-text-repr-fallback {display: none;}</style><div id=\"sk-container-id-3\" class=\"sk-top-container\"><div class=\"sk-text-repr-fallback\"><pre>CustomScaler(columns=[&#x27;Reason_1&#x27;, &#x27;Reason_2&#x27;, &#x27;Reason_3&#x27;, &#x27;Reason_4&#x27;,\n                      &#x27;Transportation Expense&#x27;, &#x27;Distance to Work&#x27;, &#x27;Age&#x27;,\n                      &#x27;Daily Work Load Average&#x27;, &#x27;Body Mass Index&#x27;, &#x27;Education&#x27;,\n                      &#x27;Children&#x27;, &#x27;Pets&#x27;, &#x27;Month Value&#x27;, &#x27;Day of the Week&#x27;])</pre><b>In a Jupyter environment, please rerun this cell to show the HTML representation or trust the notebook. <br />On GitHub, the HTML representation is unable to render, please try loading this page with nbviewer.org.</b></div><div class=\"sk-container\" hidden><div class=\"sk-item\"><div class=\"sk-estimator sk-toggleable\"><input class=\"sk-toggleable__control sk-hidden--visually\" id=\"sk-estimator-id-3\" type=\"checkbox\" checked><label for=\"sk-estimator-id-3\" class=\"sk-toggleable__label sk-toggleable__label-arrow\">CustomScaler</label><div class=\"sk-toggleable__content\"><pre>CustomScaler(columns=[&#x27;Reason_1&#x27;, &#x27;Reason_2&#x27;, &#x27;Reason_3&#x27;, &#x27;Reason_4&#x27;,\n                      &#x27;Transportation Expense&#x27;, &#x27;Distance to Work&#x27;, &#x27;Age&#x27;,\n                      &#x27;Daily Work Load Average&#x27;, &#x27;Body Mass Index&#x27;, &#x27;Education&#x27;,\n                      &#x27;Children&#x27;, &#x27;Pets&#x27;, &#x27;Month Value&#x27;, &#x27;Day of the Week&#x27;])</pre></div></div></div></div></div>"
     },
     "execution_count": 75,
     "metadata": {},
     "output_type": "execute_result"
    }
   ],
   "source": [
    "absenteeism_scaler.fit(unscaled_inputs)"
   ]
  },
  {
   "cell_type": "code",
   "execution_count": 76,
   "id": "5a20e536",
   "metadata": {
    "ExecuteTime": {
     "end_time": "2023-09-21T15:51:50.763380500Z",
     "start_time": "2023-09-21T15:51:50.350967600Z"
    }
   },
   "outputs": [
    {
     "name": "stdout",
     "output_type": "stream",
     "text": [
      "['Reason_1', 'Reason_2', 'Reason_3', 'Reason_4', 'Transportation Expense', 'Distance to Work', 'Age', 'Daily Work Load Average', 'Body Mass Index', 'Education', 'Children', 'Pets', 'Month Value', 'Day of the Week']\n"
     ]
    },
    {
     "name": "stderr",
     "output_type": "stream",
     "text": [
      "C:\\Users\\luiss\\AppData\\Local\\Programs\\Python\\Python311\\Lib\\site-packages\\sklearn\\utils\\validation.py:757: FutureWarning: is_sparse is deprecated and will be removed in a future version. Check `isinstance(dtype, pd.SparseDtype)` instead.\n",
      "  if not hasattr(array, \"sparse\") and array.dtypes.apply(is_sparse).any():\n",
      "C:\\Users\\luiss\\AppData\\Local\\Programs\\Python\\Python311\\Lib\\site-packages\\sklearn\\utils\\validation.py:595: FutureWarning: is_sparse is deprecated and will be removed in a future version. Check `isinstance(dtype, pd.SparseDtype)` instead.\n",
      "  if is_sparse(pd_dtype):\n",
      "C:\\Users\\luiss\\AppData\\Local\\Programs\\Python\\Python311\\Lib\\site-packages\\sklearn\\utils\\validation.py:604: FutureWarning: is_sparse is deprecated and will be removed in a future version. Check `isinstance(dtype, pd.SparseDtype)` instead.\n",
      "  if is_sparse(pd_dtype) or not is_extension_array_dtype(pd_dtype):\n"
     ]
    }
   ],
   "source": [
    "scaled_inputs = absenteeism_scaler.transform(unscaled_inputs)"
   ]
  },
  {
   "cell_type": "code",
   "execution_count": 76,
   "id": "b4811d1c",
   "metadata": {
    "ExecuteTime": {
     "end_time": "2023-09-21T15:51:50.763380500Z",
     "start_time": "2023-09-21T15:51:50.356784Z"
    }
   },
   "outputs": [],
   "source": []
  },
  {
   "cell_type": "markdown",
   "id": "97464def",
   "metadata": {},
   "source": [
    "#### spliting the data into train & test and shuffle"
   ]
  },
  {
   "cell_type": "code",
   "execution_count": 77,
   "id": "318ab72a",
   "metadata": {
    "ExecuteTime": {
     "end_time": "2023-09-21T15:51:50.764380800Z",
     "start_time": "2023-09-21T15:51:50.359813200Z"
    }
   },
   "outputs": [],
   "source": [
    "from sklearn.model_selection import train_test_split"
   ]
  },
  {
   "cell_type": "code",
   "execution_count": 78,
   "id": "fb4f818b",
   "metadata": {
    "ExecuteTime": {
     "end_time": "2023-09-21T15:51:50.764380800Z",
     "start_time": "2023-09-21T15:51:50.361815100Z"
    }
   },
   "outputs": [
    {
     "data": {
      "text/plain": "[     Reason_1  Reason_2  Reason_3  Reason_4  Transportation Expense  \\\n 191  1.732051 -0.092981 -0.314485 -1.217485               -0.654143   \n 395 -0.577350 -0.092981 -0.314485  0.821365                0.190942   \n 557 -0.577350 -0.092981 -0.314485  0.821365                0.040034   \n 312 -0.577350 -0.092981 -0.314485 -1.217485                1.036026   \n 54  -0.577350 -0.092981 -0.314485 -1.217485                1.005844   \n ..        ...       ...       ...       ...                     ...   \n 536  1.732051 -0.092981 -0.314485 -1.217485               -1.574681   \n 31  -0.577350 -0.092981  3.179797 -1.217485                0.190942   \n 98  -0.577350 -0.092981 -0.314485  0.821365                0.387122   \n 657 -0.577350 -0.092981  3.179797 -1.217485                0.387122   \n 522 -0.577350 -0.092981 -0.314485  0.821365                1.036026   \n \n      Distance to Work       Age  Daily Work Load Average  Body Mass Index  \\\n 191          1.426749  0.248310                 1.366488         1.002633   \n 395         -1.277074  0.091435                -0.685486         0.532229   \n 557         -0.263140 -1.320435                 0.218718        -0.643782   \n 312          0.074838  0.562059                -0.169648        -0.408580   \n 54           0.412816 -0.536062                -0.758273         0.767431   \n ..                ...       ...                      ...              ...   \n 536         -1.344669  0.091435                -0.082083         0.297027   \n 31          -0.060353  1.817054                -1.647399         1.473038   \n 98          -0.330735  1.660180                -0.262439         1.237836   \n 657         -0.330735  1.660180                -0.637953         1.237836   \n 522          0.074838  0.562059                 0.326336        -0.408580   \n \n      Education  Children      Pets  Month Value  Day of the Week  \n 191  -0.447980 -0.919030 -0.589690    -0.673803        -0.007725  \n 395   2.232242 -0.019280  0.268487    -0.959313        -1.359682  \n 557  -0.447980 -0.019280  1.126663     1.610276        -0.007725  \n 312  -0.447980 -0.019280  0.268487     1.039256         0.668253  \n 54   -0.447980  0.880469  0.268487     0.753746        -0.683704  \n ..         ...       ...       ...          ...              ...  \n 536  -0.447980 -0.919030 -0.589690     1.324766        -0.683704  \n 31   -0.447980 -0.019280  3.701192     0.468236         0.668253  \n 98   -0.447980  0.880469  0.268487     1.610276        -0.683704  \n 657  -0.447980  0.880469  0.268487    -0.673803        -0.007725  \n 522  -0.447980 -0.019280  0.268487     1.039256        -0.007725  \n \n [525 rows x 14 columns],\n      Reason_1   Reason_2  Reason_3  Reason_4  Transportation Expense  \\\n 296  1.732051  -0.092981 -0.314485 -1.217485               -1.574681   \n 440 -0.577350  -0.092981 -0.314485  0.821365               -0.654143   \n 389 -0.577350  -0.092981 -0.314485  0.821365               -0.654143   \n 29  -0.577350  -0.092981 -0.314485  0.821365               -0.654143   \n 375 -0.577350  -0.092981 -0.314485  0.821365               -0.654143   \n ..        ...        ...       ...       ...                     ...   \n 502 -0.577350  -0.092981 -0.314485  0.821365               -0.654143   \n 650 -0.577350  -0.092981 -0.314485  0.821365               -0.654143   \n 335 -0.577350  10.754844 -0.314485 -1.217485                0.568211   \n 551 -0.577350  -0.092981 -0.314485 -1.217485                0.190942   \n 357 -0.577350  -0.092981  3.179797 -1.217485                1.005844   \n \n      Distance to Work       Age  Daily Work Load Average  Body Mass Index  \\\n 296         -1.344669  0.091435                -0.169648         0.297027   \n 440         -0.263140 -1.006686                -0.643304        -1.819793   \n 389          1.426749  0.248310                -0.499679         1.002633   \n 29           1.426749  0.248310                -1.647399         1.002633   \n 375          1.426749  0.248310                -0.499679         1.002633   \n ..                ...       ...                      ...              ...   \n 502          1.426749  0.248310                -0.251187         1.002633   \n 650          1.426749  0.248310                -1.240355         1.002633   \n 335          1.359154 -0.065439                 0.305783        -0.878984   \n 551         -0.668713  1.032682                -0.082083         2.649049   \n 357          0.412816 -0.536062                -0.879469         0.767431   \n \n      Education  Children      Pets  Month Value  Day of the Week  \n 296  -0.447980 -0.919030 -0.589690     1.039256        -0.007725  \n 440   2.232242 -0.919030 -0.589690    -0.388293        -0.007725  \n 389  -0.447980 -0.919030 -0.589690    -1.244823         1.344231  \n 29   -0.447980 -0.919030 -0.589690     0.468236         1.344231  \n 375  -0.447980 -0.919030 -0.589690    -1.244823        -1.359682  \n ..         ...       ...       ...          ...              ...  \n 502  -0.447980 -0.919030 -0.589690     0.753746        -1.359682  \n 650  -0.447980 -0.919030 -0.589690    -0.959313         0.668253  \n 335  -0.447980  2.679969 -0.589690     1.324766         1.344231  \n 551  -0.447980 -0.019280 -0.589690     1.324766         0.668253  \n 357  -0.447980  0.880469  0.268487     1.610276        -1.359682  \n \n [175 rows x 14 columns],\n array([1, 1, 0, 0, 0, 0, 1, 0, 0, 0, 1, 1, 0, 0, 0, 1, 1, 1, 0, 1, 1, 0,\n        0, 0, 1, 1, 1, 1, 0, 1, 1, 1, 0, 1, 1, 0, 1, 1, 0, 1, 1, 0, 1, 1,\n        0, 1, 1, 0, 0, 0, 0, 1, 0, 1, 1, 1, 0, 0, 1, 0, 0, 0, 0, 1, 0, 0,\n        1, 0, 1, 0, 1, 0, 1, 1, 0, 0, 0, 0, 0, 0, 1, 0, 1, 0, 0, 0, 0, 1,\n        1, 1, 0, 0, 1, 1, 1, 1, 0, 0, 1, 1, 0, 1, 1, 0, 0, 1, 1, 1, 0, 0,\n        1, 1, 0, 0, 1, 1, 0, 1, 1, 0, 0, 1, 0, 1, 1, 0, 1, 0, 1, 1, 0, 0,\n        0, 0, 0, 1, 1, 0, 0, 1, 0, 0, 0, 1, 0, 1, 1, 1, 0, 0, 0, 0, 1, 1,\n        1, 1, 1, 1, 0, 1, 1, 1, 0, 1, 0, 1, 0, 0, 0, 1, 1, 1, 1, 1, 0, 0,\n        0, 0, 1, 0, 0, 1, 0, 0, 0, 1, 0, 1, 0, 1, 0, 1, 0, 0, 0, 0, 0, 0,\n        0, 1, 1, 1, 1, 0, 1, 0, 1, 0, 0, 1, 1, 1, 1, 0, 0, 0, 1, 0, 1, 0,\n        0, 1, 0, 1, 0, 0, 0, 0, 0, 1, 0, 0, 0, 1, 1, 1, 0, 0, 0, 0, 1, 1,\n        0, 0, 0, 0, 0, 1, 1, 1, 0, 1, 1, 0, 0, 0, 0, 0, 1, 0, 1, 0, 0, 0,\n        0, 1, 0, 0, 0, 1, 0, 0, 0, 0, 0, 0, 1, 0, 1, 1, 0, 0, 0, 1, 1, 1,\n        0, 1, 1, 1, 1, 0, 1, 1, 1, 0, 0, 1, 1, 1, 0, 1, 0, 0, 1, 0, 0, 1,\n        1, 0, 1, 0, 0, 0, 1, 1, 0, 0, 1, 1, 0, 0, 1, 0, 0, 1, 0, 1, 0, 0,\n        0, 1, 1, 1, 1, 0, 0, 0, 0, 0, 0, 1, 0, 1, 1, 0, 1, 0, 0, 0, 1, 0,\n        0, 0, 0, 0, 1, 0, 0, 1, 0, 0, 0, 0, 0, 0, 1, 0, 0, 1, 1, 1, 0, 1,\n        0, 1, 0, 0, 0, 1, 1, 1, 0, 0, 1, 1, 0, 0, 1, 1, 0, 0, 0, 0, 0, 0,\n        0, 0, 1, 0, 1, 1, 1, 0, 0, 1, 0, 1, 1, 1, 1, 1, 0, 1, 0, 1, 0, 1,\n        0, 0, 0, 1, 0, 0, 1, 0, 0, 0, 0, 0, 0, 1, 1, 0, 0, 1, 1, 0, 1, 0,\n        1, 1, 1, 0, 0, 0, 1, 1, 0, 0, 0, 0, 1, 1, 1, 1, 0, 1, 1, 1, 0, 0,\n        0, 1, 1, 0, 0, 1, 1, 1, 0, 0, 0, 1, 0, 1, 0, 1, 0, 0, 0, 0, 0, 0,\n        0, 0, 1, 0, 0, 1, 1, 1, 1, 0, 0, 1, 0, 0, 0, 1, 0, 0, 0, 0, 1, 1,\n        0, 1, 1, 0, 0, 1, 0, 1, 0, 0, 1, 0, 0, 1, 1, 1, 0, 1, 0]),\n array([0, 0, 0, 0, 0, 1, 0, 1, 0, 1, 1, 0, 1, 1, 0, 0, 0, 0, 1, 0, 0, 0,\n        0, 0, 0, 1, 1, 0, 0, 1, 1, 0, 1, 1, 1, 0, 0, 0, 1, 1, 1, 0, 1, 0,\n        0, 0, 0, 0, 0, 0, 0, 1, 0, 1, 0, 0, 1, 1, 1, 0, 1, 0, 1, 1, 1, 1,\n        0, 0, 1, 0, 1, 1, 1, 0, 0, 1, 1, 0, 1, 1, 1, 1, 0, 0, 1, 0, 0, 1,\n        0, 0, 1, 0, 1, 1, 0, 0, 1, 0, 0, 1, 1, 1, 1, 1, 1, 1, 1, 1, 1, 1,\n        0, 1, 1, 0, 0, 1, 0, 1, 1, 0, 1, 0, 0, 1, 1, 0, 1, 0, 1, 0, 1, 1,\n        0, 0, 0, 1, 0, 0, 1, 0, 0, 1, 0, 1, 0, 0, 0, 0, 0, 1, 0, 1, 0, 0,\n        1, 0, 1, 0, 1, 1, 1, 1, 1, 0, 0, 0, 0, 1, 0, 1, 1, 0, 1, 0, 1])]"
     },
     "execution_count": 78,
     "metadata": {},
     "output_type": "execute_result"
    }
   ],
   "source": [
    "train_test_split(scaled_inputs, targets)"
   ]
  },
  {
   "cell_type": "code",
   "execution_count": 79,
   "id": "a64ad4da",
   "metadata": {
    "ExecuteTime": {
     "end_time": "2023-09-21T15:51:50.764380800Z",
     "start_time": "2023-09-21T15:51:50.372650Z"
    }
   },
   "outputs": [],
   "source": [
    "x_train, x_test, y_train, y_test = train_test_split(scaled_inputs, targets, train_size=0.8, random_state = 20)"
   ]
  },
  {
   "cell_type": "code",
   "execution_count": 80,
   "id": "3031781d",
   "metadata": {
    "ExecuteTime": {
     "end_time": "2023-09-21T15:51:50.765380700Z",
     "start_time": "2023-09-21T15:51:50.375064900Z"
    }
   },
   "outputs": [
    {
     "name": "stdout",
     "output_type": "stream",
     "text": [
      "(560, 14) (560,)\n"
     ]
    }
   ],
   "source": [
    "print(x_train.shape, y_train.shape)"
   ]
  },
  {
   "cell_type": "code",
   "execution_count": 81,
   "id": "e79161fe",
   "metadata": {
    "ExecuteTime": {
     "end_time": "2023-09-21T15:51:50.765380700Z",
     "start_time": "2023-09-21T15:51:50.378885Z"
    }
   },
   "outputs": [
    {
     "name": "stdout",
     "output_type": "stream",
     "text": [
      "(140, 14) (140,)\n"
     ]
    }
   ],
   "source": [
    "print(x_test.shape, y_test.shape)"
   ]
  },
  {
   "cell_type": "markdown",
   "id": "bbccc228",
   "metadata": {},
   "source": [
    "#### Logistic regression with sklearn"
   ]
  },
  {
   "cell_type": "code",
   "execution_count": 82,
   "id": "5ff1a384",
   "metadata": {
    "ExecuteTime": {
     "end_time": "2023-09-21T15:51:50.765380700Z",
     "start_time": "2023-09-21T15:51:50.382177Z"
    }
   },
   "outputs": [],
   "source": [
    "from sklearn.linear_model import LogisticRegression\n",
    "from sklearn import metrics"
   ]
  },
  {
   "cell_type": "code",
   "execution_count": 83,
   "id": "88096ebc",
   "metadata": {
    "ExecuteTime": {
     "end_time": "2023-09-21T15:51:50.766381800Z",
     "start_time": "2023-09-21T15:51:50.383681200Z"
    }
   },
   "outputs": [],
   "source": [
    "reg = LogisticRegression()"
   ]
  },
  {
   "cell_type": "code",
   "execution_count": 84,
   "id": "6cbbab44",
   "metadata": {
    "ExecuteTime": {
     "end_time": "2023-09-21T15:51:50.766381800Z",
     "start_time": "2023-09-21T15:51:50.387522900Z"
    }
   },
   "outputs": [
    {
     "name": "stderr",
     "output_type": "stream",
     "text": [
      "C:\\Users\\luiss\\AppData\\Local\\Programs\\Python\\Python311\\Lib\\site-packages\\sklearn\\utils\\validation.py:757: FutureWarning: is_sparse is deprecated and will be removed in a future version. Check `isinstance(dtype, pd.SparseDtype)` instead.\n",
      "  if not hasattr(array, \"sparse\") and array.dtypes.apply(is_sparse).any():\n",
      "C:\\Users\\luiss\\AppData\\Local\\Programs\\Python\\Python311\\Lib\\site-packages\\sklearn\\utils\\validation.py:595: FutureWarning: is_sparse is deprecated and will be removed in a future version. Check `isinstance(dtype, pd.SparseDtype)` instead.\n",
      "  if is_sparse(pd_dtype):\n",
      "C:\\Users\\luiss\\AppData\\Local\\Programs\\Python\\Python311\\Lib\\site-packages\\sklearn\\utils\\validation.py:604: FutureWarning: is_sparse is deprecated and will be removed in a future version. Check `isinstance(dtype, pd.SparseDtype)` instead.\n",
      "  if is_sparse(pd_dtype) or not is_extension_array_dtype(pd_dtype):\n"
     ]
    },
    {
     "data": {
      "text/plain": "LogisticRegression()",
      "text/html": "<style>#sk-container-id-4 {color: black;background-color: white;}#sk-container-id-4 pre{padding: 0;}#sk-container-id-4 div.sk-toggleable {background-color: white;}#sk-container-id-4 label.sk-toggleable__label {cursor: pointer;display: block;width: 100%;margin-bottom: 0;padding: 0.3em;box-sizing: border-box;text-align: center;}#sk-container-id-4 label.sk-toggleable__label-arrow:before {content: \"▸\";float: left;margin-right: 0.25em;color: #696969;}#sk-container-id-4 label.sk-toggleable__label-arrow:hover:before {color: black;}#sk-container-id-4 div.sk-estimator:hover label.sk-toggleable__label-arrow:before {color: black;}#sk-container-id-4 div.sk-toggleable__content {max-height: 0;max-width: 0;overflow: hidden;text-align: left;background-color: #f0f8ff;}#sk-container-id-4 div.sk-toggleable__content pre {margin: 0.2em;color: black;border-radius: 0.25em;background-color: #f0f8ff;}#sk-container-id-4 input.sk-toggleable__control:checked~div.sk-toggleable__content {max-height: 200px;max-width: 100%;overflow: auto;}#sk-container-id-4 input.sk-toggleable__control:checked~label.sk-toggleable__label-arrow:before {content: \"▾\";}#sk-container-id-4 div.sk-estimator input.sk-toggleable__control:checked~label.sk-toggleable__label {background-color: #d4ebff;}#sk-container-id-4 div.sk-label input.sk-toggleable__control:checked~label.sk-toggleable__label {background-color: #d4ebff;}#sk-container-id-4 input.sk-hidden--visually {border: 0;clip: rect(1px 1px 1px 1px);clip: rect(1px, 1px, 1px, 1px);height: 1px;margin: -1px;overflow: hidden;padding: 0;position: absolute;width: 1px;}#sk-container-id-4 div.sk-estimator {font-family: monospace;background-color: #f0f8ff;border: 1px dotted black;border-radius: 0.25em;box-sizing: border-box;margin-bottom: 0.5em;}#sk-container-id-4 div.sk-estimator:hover {background-color: #d4ebff;}#sk-container-id-4 div.sk-parallel-item::after {content: \"\";width: 100%;border-bottom: 1px solid gray;flex-grow: 1;}#sk-container-id-4 div.sk-label:hover label.sk-toggleable__label {background-color: #d4ebff;}#sk-container-id-4 div.sk-serial::before {content: \"\";position: absolute;border-left: 1px solid gray;box-sizing: border-box;top: 0;bottom: 0;left: 50%;z-index: 0;}#sk-container-id-4 div.sk-serial {display: flex;flex-direction: column;align-items: center;background-color: white;padding-right: 0.2em;padding-left: 0.2em;position: relative;}#sk-container-id-4 div.sk-item {position: relative;z-index: 1;}#sk-container-id-4 div.sk-parallel {display: flex;align-items: stretch;justify-content: center;background-color: white;position: relative;}#sk-container-id-4 div.sk-item::before, #sk-container-id-4 div.sk-parallel-item::before {content: \"\";position: absolute;border-left: 1px solid gray;box-sizing: border-box;top: 0;bottom: 0;left: 50%;z-index: -1;}#sk-container-id-4 div.sk-parallel-item {display: flex;flex-direction: column;z-index: 1;position: relative;background-color: white;}#sk-container-id-4 div.sk-parallel-item:first-child::after {align-self: flex-end;width: 50%;}#sk-container-id-4 div.sk-parallel-item:last-child::after {align-self: flex-start;width: 50%;}#sk-container-id-4 div.sk-parallel-item:only-child::after {width: 0;}#sk-container-id-4 div.sk-dashed-wrapped {border: 1px dashed gray;margin: 0 0.4em 0.5em 0.4em;box-sizing: border-box;padding-bottom: 0.4em;background-color: white;}#sk-container-id-4 div.sk-label label {font-family: monospace;font-weight: bold;display: inline-block;line-height: 1.2em;}#sk-container-id-4 div.sk-label-container {text-align: center;}#sk-container-id-4 div.sk-container {/* jupyter's `normalize.less` sets `[hidden] { display: none; }` but bootstrap.min.css set `[hidden] { display: none !important; }` so we also need the `!important` here to be able to override the default hidden behavior on the sphinx rendered scikit-learn.org. See: https://github.com/scikit-learn/scikit-learn/issues/21755 */display: inline-block !important;position: relative;}#sk-container-id-4 div.sk-text-repr-fallback {display: none;}</style><div id=\"sk-container-id-4\" class=\"sk-top-container\"><div class=\"sk-text-repr-fallback\"><pre>LogisticRegression()</pre><b>In a Jupyter environment, please rerun this cell to show the HTML representation or trust the notebook. <br />On GitHub, the HTML representation is unable to render, please try loading this page with nbviewer.org.</b></div><div class=\"sk-container\" hidden><div class=\"sk-item\"><div class=\"sk-estimator sk-toggleable\"><input class=\"sk-toggleable__control sk-hidden--visually\" id=\"sk-estimator-id-4\" type=\"checkbox\" checked><label for=\"sk-estimator-id-4\" class=\"sk-toggleable__label sk-toggleable__label-arrow\">LogisticRegression</label><div class=\"sk-toggleable__content\"><pre>LogisticRegression()</pre></div></div></div></div></div>"
     },
     "execution_count": 84,
     "metadata": {},
     "output_type": "execute_result"
    }
   ],
   "source": [
    "reg.fit(x_train,y_train)"
   ]
  },
  {
   "cell_type": "code",
   "execution_count": 85,
   "id": "af888905",
   "metadata": {
    "ExecuteTime": {
     "end_time": "2023-09-21T15:51:50.767381500Z",
     "start_time": "2023-09-21T15:51:50.393322200Z"
    }
   },
   "outputs": [
    {
     "name": "stderr",
     "output_type": "stream",
     "text": [
      "C:\\Users\\luiss\\AppData\\Local\\Programs\\Python\\Python311\\Lib\\site-packages\\sklearn\\utils\\validation.py:757: FutureWarning: is_sparse is deprecated and will be removed in a future version. Check `isinstance(dtype, pd.SparseDtype)` instead.\n",
      "  if not hasattr(array, \"sparse\") and array.dtypes.apply(is_sparse).any():\n",
      "C:\\Users\\luiss\\AppData\\Local\\Programs\\Python\\Python311\\Lib\\site-packages\\sklearn\\utils\\validation.py:595: FutureWarning: is_sparse is deprecated and will be removed in a future version. Check `isinstance(dtype, pd.SparseDtype)` instead.\n",
      "  if is_sparse(pd_dtype):\n",
      "C:\\Users\\luiss\\AppData\\Local\\Programs\\Python\\Python311\\Lib\\site-packages\\sklearn\\utils\\validation.py:604: FutureWarning: is_sparse is deprecated and will be removed in a future version. Check `isinstance(dtype, pd.SparseDtype)` instead.\n",
      "  if is_sparse(pd_dtype) or not is_extension_array_dtype(pd_dtype):\n"
     ]
    },
    {
     "data": {
      "text/plain": "0.7839285714285714"
     },
     "execution_count": 85,
     "metadata": {},
     "output_type": "execute_result"
    }
   ],
   "source": [
    "reg.score(x_train, y_train)"
   ]
  },
  {
   "cell_type": "markdown",
   "id": "60e2fa66",
   "metadata": {},
   "source": [
    "#### manually checking the accuracy"
   ]
  },
  {
   "cell_type": "code",
   "execution_count": 86,
   "id": "19e3c7e8",
   "metadata": {
    "ExecuteTime": {
     "end_time": "2023-09-21T15:51:50.767381500Z",
     "start_time": "2023-09-21T15:51:50.397735800Z"
    }
   },
   "outputs": [
    {
     "name": "stderr",
     "output_type": "stream",
     "text": [
      "C:\\Users\\luiss\\AppData\\Local\\Programs\\Python\\Python311\\Lib\\site-packages\\sklearn\\utils\\validation.py:757: FutureWarning: is_sparse is deprecated and will be removed in a future version. Check `isinstance(dtype, pd.SparseDtype)` instead.\n",
      "  if not hasattr(array, \"sparse\") and array.dtypes.apply(is_sparse).any():\n",
      "C:\\Users\\luiss\\AppData\\Local\\Programs\\Python\\Python311\\Lib\\site-packages\\sklearn\\utils\\validation.py:595: FutureWarning: is_sparse is deprecated and will be removed in a future version. Check `isinstance(dtype, pd.SparseDtype)` instead.\n",
      "  if is_sparse(pd_dtype):\n",
      "C:\\Users\\luiss\\AppData\\Local\\Programs\\Python\\Python311\\Lib\\site-packages\\sklearn\\utils\\validation.py:604: FutureWarning: is_sparse is deprecated and will be removed in a future version. Check `isinstance(dtype, pd.SparseDtype)` instead.\n",
      "  if is_sparse(pd_dtype) or not is_extension_array_dtype(pd_dtype):\n"
     ]
    }
   ],
   "source": [
    "model_outputs = reg.predict(x_train)"
   ]
  },
  {
   "cell_type": "code",
   "execution_count": 87,
   "id": "1e32b413",
   "metadata": {
    "ExecuteTime": {
     "end_time": "2023-09-21T15:51:50.784384600Z",
     "start_time": "2023-09-21T15:51:50.401898300Z"
    }
   },
   "outputs": [
    {
     "data": {
      "text/plain": "array([0, 1, 1, 1, 1, 0, 0, 1, 0, 1, 1, 1, 0, 1, 0, 0, 0, 0, 0, 1, 1, 0,\n       0, 0, 0, 0, 0, 1, 1, 0, 0, 1, 0, 1, 0, 0, 1, 0, 0, 0, 1, 0, 1, 1,\n       1, 0, 0, 0, 1, 1, 0, 1, 0, 0, 0, 1, 1, 0, 0, 0, 0, 0, 1, 0, 0, 0,\n       0, 1, 0, 0, 0, 1, 1, 0, 0, 0, 1, 0, 0, 1, 1, 1, 0, 0, 0, 1, 1, 0,\n       0, 1, 0, 0, 1, 0, 0, 0, 0, 1, 0, 1, 1, 1, 1, 0, 1, 1, 0, 0, 1, 0,\n       0, 1, 0, 1, 1, 0, 0, 1, 1, 1, 1, 1, 1, 0, 0, 1, 0, 1, 0, 0, 1, 0,\n       0, 0, 0, 0, 1, 0, 0, 0, 0, 0, 1, 1, 1, 0, 0, 1, 0, 1, 0, 0, 1, 1,\n       1, 1, 0, 1, 0, 1, 1, 0, 1, 0, 0, 1, 1, 0, 1, 1, 0, 0, 0, 0, 1, 0,\n       0, 0, 0, 0, 1, 0, 0, 1, 1, 0, 0, 1, 0, 0, 1, 1, 1, 0, 0, 0, 0, 1,\n       1, 0, 0, 1, 1, 1, 1, 0, 1, 0, 0, 0, 1, 1, 1, 0, 0, 0, 0, 0, 0, 1,\n       1, 0, 0, 0, 1, 0, 0, 1, 1, 0, 0, 1, 1, 0, 0, 1, 1, 0, 0, 1, 0, 1,\n       0, 0, 1, 0, 1, 1, 1, 0, 1, 0, 1, 0, 1, 0, 1, 1, 1, 1, 1, 1, 1, 1,\n       0, 0, 1, 0, 0, 0, 1, 1, 0, 0, 1, 0, 1, 0, 0, 1, 0, 0, 1, 0, 1, 0,\n       0, 0, 1, 0, 0, 0, 0, 1, 1, 1, 1, 1, 1, 1, 0, 0, 0, 0, 0, 1, 0, 0,\n       1, 0, 0, 0, 1, 0, 1, 0, 1, 1, 0, 0, 0, 0, 1, 1, 0, 1, 0, 0, 1, 1,\n       1, 0, 1, 0, 0, 1, 1, 0, 0, 0, 0, 0, 0, 0, 0, 1, 1, 1, 0, 0, 0, 1,\n       0, 0, 1, 0, 1, 1, 0, 0, 1, 0, 1, 1, 1, 0, 0, 0, 0, 1, 1, 1, 0, 0,\n       1, 1, 1, 1, 0, 0, 1, 1, 0, 1, 0, 1, 1, 1, 0, 1, 0, 1, 1, 0, 0, 0,\n       0, 0, 0, 0, 0, 1, 1, 0, 1, 1, 1, 1, 0, 0, 0, 1, 1, 0, 1, 1, 1, 0,\n       0, 0, 0, 1, 0, 0, 1, 0, 0, 1, 0, 0, 1, 0, 1, 1, 1, 0, 0, 1, 1, 0,\n       0, 0, 0, 1, 0, 0, 0, 0, 1, 1, 1, 1, 1, 0, 1, 1, 0, 0, 0, 0, 0, 0,\n       1, 1, 0, 0, 0, 0, 1, 0, 0, 0, 1, 0, 1, 1, 0, 0, 1, 0, 0, 1, 0, 0,\n       0, 1, 0, 0, 0, 1, 0, 0, 1, 0, 0, 0, 0, 1, 0, 0, 1, 0, 1, 0, 0, 0,\n       0, 1, 1, 1, 1, 0, 0, 0, 1, 1, 1, 1, 0, 0, 1, 1, 0, 0, 1, 0, 1, 1,\n       0, 1, 1, 0, 1, 1, 1, 0, 0, 0, 1, 1, 1, 0, 1, 1, 0, 1, 1, 0, 0, 0,\n       0, 1, 0, 1, 1, 1, 0, 0, 0, 0])"
     },
     "execution_count": 87,
     "metadata": {},
     "output_type": "execute_result"
    }
   ],
   "source": [
    "model_outputs"
   ]
  },
  {
   "cell_type": "code",
   "execution_count": 88,
   "id": "5134da31",
   "metadata": {
    "ExecuteTime": {
     "end_time": "2023-09-21T15:51:50.784384600Z",
     "start_time": "2023-09-21T15:51:50.405594200Z"
    }
   },
   "outputs": [
    {
     "data": {
      "text/plain": "array([ True,  True,  True,  True,  True,  True,  True,  True,  True,\n        True, False,  True, False, False,  True,  True,  True,  True,\n       False,  True, False,  True, False, False,  True,  True,  True,\n       False,  True,  True,  True,  True,  True,  True,  True,  True,\n       False, False, False, False,  True,  True,  True,  True,  True,\n        True,  True,  True,  True,  True, False,  True,  True,  True,\n        True,  True,  True,  True,  True, False,  True,  True,  True,\n        True,  True,  True,  True, False,  True, False,  True,  True,\n        True,  True,  True, False,  True,  True,  True,  True,  True,\n       False,  True, False,  True,  True, False, False, False,  True,\n        True,  True,  True,  True,  True,  True,  True, False,  True,\n        True,  True,  True,  True,  True,  True,  True,  True,  True,\n        True,  True,  True,  True, False,  True,  True,  True,  True,\n        True,  True,  True,  True,  True, False,  True,  True,  True,\n        True,  True,  True,  True,  True, False,  True,  True,  True,\n        True, False,  True,  True,  True,  True,  True,  True, False,\n        True, False,  True, False,  True,  True,  True,  True, False,\n        True, False,  True,  True, False,  True,  True,  True,  True,\n        True, False,  True, False,  True, False,  True, False,  True,\n        True,  True,  True,  True,  True,  True,  True,  True,  True,\n        True,  True,  True,  True,  True, False,  True,  True,  True,\n        True, False,  True,  True,  True,  True,  True,  True,  True,\n        True,  True,  True,  True,  True,  True, False,  True, False,\n       False,  True,  True,  True,  True,  True,  True,  True, False,\n        True, False,  True, False,  True,  True,  True,  True, False,\n        True, False, False,  True,  True,  True,  True,  True, False,\n       False, False,  True, False,  True, False,  True, False,  True,\n        True,  True,  True,  True,  True,  True, False,  True,  True,\n        True,  True,  True,  True,  True,  True,  True,  True,  True,\n        True, False, False,  True,  True, False,  True,  True,  True,\n       False,  True,  True,  True,  True,  True,  True,  True, False,\n       False,  True,  True,  True,  True, False,  True, False,  True,\n        True,  True,  True,  True,  True,  True, False,  True, False,\n       False,  True,  True,  True,  True,  True, False,  True,  True,\n        True,  True, False, False,  True, False,  True,  True,  True,\n        True,  True,  True,  True,  True, False,  True,  True, False,\n        True,  True,  True,  True,  True,  True,  True,  True, False,\n        True,  True,  True,  True, False,  True,  True,  True, False,\n        True, False,  True,  True,  True,  True,  True,  True,  True,\n        True,  True,  True,  True,  True,  True,  True,  True,  True,\n       False,  True,  True, False,  True, False,  True,  True,  True,\n        True,  True,  True,  True,  True,  True,  True,  True,  True,\n        True,  True,  True, False,  True,  True,  True, False,  True,\n        True, False,  True, False,  True,  True,  True, False,  True,\n        True,  True,  True,  True,  True, False,  True,  True,  True,\n        True, False,  True,  True,  True,  True,  True,  True,  True,\n       False,  True,  True, False,  True, False,  True,  True,  True,\n        True,  True,  True, False,  True,  True, False,  True, False,\n        True,  True,  True,  True,  True, False, False,  True,  True,\n        True,  True,  True,  True,  True,  True,  True, False,  True,\n       False,  True,  True,  True, False, False,  True,  True,  True,\n        True, False,  True,  True,  True,  True,  True,  True,  True,\n        True,  True, False,  True,  True, False, False,  True,  True,\n       False,  True,  True,  True,  True,  True,  True, False,  True,\n        True,  True, False,  True,  True,  True,  True, False,  True,\n        True,  True,  True,  True, False,  True,  True,  True,  True,\n        True, False,  True,  True, False, False,  True,  True,  True,\n       False,  True,  True,  True,  True,  True, False,  True,  True,\n       False, False, False,  True,  True, False,  True,  True,  True,\n       False,  True,  True,  True,  True,  True,  True,  True,  True,\n        True, False,  True,  True,  True,  True,  True,  True,  True,\n        True,  True, False,  True,  True,  True,  True, False,  True,\n       False,  True])"
     },
     "execution_count": 88,
     "metadata": {},
     "output_type": "execute_result"
    }
   ],
   "source": [
    "model_outputs == y_train"
   ]
  },
  {
   "cell_type": "code",
   "execution_count": 89,
   "id": "1b43f594",
   "metadata": {
    "ExecuteTime": {
     "end_time": "2023-09-21T15:51:50.785385800Z",
     "start_time": "2023-09-21T15:51:50.409218200Z"
    }
   },
   "outputs": [
    {
     "data": {
      "text/plain": "439"
     },
     "execution_count": 89,
     "metadata": {},
     "output_type": "execute_result"
    }
   ],
   "source": [
    "np.sum((model_outputs == y_train))"
   ]
  },
  {
   "cell_type": "code",
   "execution_count": 90,
   "id": "c6bdd510",
   "metadata": {
    "ExecuteTime": {
     "end_time": "2023-09-21T15:51:50.785385800Z",
     "start_time": "2023-09-21T15:51:50.412398300Z"
    }
   },
   "outputs": [
    {
     "data": {
      "text/plain": "560"
     },
     "execution_count": 90,
     "metadata": {},
     "output_type": "execute_result"
    }
   ],
   "source": [
    "model_outputs.shape[0]"
   ]
  },
  {
   "cell_type": "code",
   "execution_count": 91,
   "id": "c7b0397d",
   "metadata": {
    "ExecuteTime": {
     "end_time": "2023-09-21T15:51:50.785385800Z",
     "start_time": "2023-09-21T15:51:50.415544300Z"
    }
   },
   "outputs": [
    {
     "data": {
      "text/plain": "0.7839285714285714"
     },
     "execution_count": 91,
     "metadata": {},
     "output_type": "execute_result"
    }
   ],
   "source": [
    "np.sum((model_outputs==y_train)) / model_outputs.shape[0]"
   ]
  },
  {
   "cell_type": "markdown",
   "id": "56f1eb1f",
   "metadata": {},
   "source": [
    "### finding the intercept and coefficients"
   ]
  },
  {
   "cell_type": "code",
   "execution_count": 92,
   "id": "1a11f76d",
   "metadata": {
    "ExecuteTime": {
     "end_time": "2023-09-21T15:51:50.785385800Z",
     "start_time": "2023-09-21T15:51:50.418811600Z"
    }
   },
   "outputs": [
    {
     "data": {
      "text/plain": "array([-0.22206736])"
     },
     "execution_count": 92,
     "metadata": {},
     "output_type": "execute_result"
    }
   ],
   "source": [
    "reg.intercept_"
   ]
  },
  {
   "cell_type": "code",
   "execution_count": 93,
   "id": "79c0ff39",
   "metadata": {
    "ExecuteTime": {
     "end_time": "2023-09-21T15:51:50.786385700Z",
     "start_time": "2023-09-21T15:51:50.422085300Z"
    }
   },
   "outputs": [
    {
     "data": {
      "text/plain": "array([[ 2.07601767,  0.33504757,  1.56162303,  1.32927434,  0.70639316,\n        -0.03986811, -0.20089491, -0.00456366,  0.31933564, -0.135508  ,\n         0.38172443, -0.3332426 ,  0.18793677, -0.07062253]])"
     },
     "execution_count": 93,
     "metadata": {},
     "output_type": "execute_result"
    }
   ],
   "source": [
    "reg.coef_"
   ]
  },
  {
   "cell_type": "code",
   "execution_count": 94,
   "id": "fbdaa8a7",
   "metadata": {
    "ExecuteTime": {
     "end_time": "2023-09-21T15:51:50.786385700Z",
     "start_time": "2023-09-21T15:51:50.425121900Z"
    }
   },
   "outputs": [
    {
     "data": {
      "text/plain": "array(['Reason_1', 'Reason_2', 'Reason_3', 'Reason_4',\n       'Transportation Expense', 'Distance to Work', 'Age',\n       'Daily Work Load Average', 'Body Mass Index', 'Education',\n       'Children', 'Pets', 'Month Value', 'Day of the Week'], dtype=object)"
     },
     "execution_count": 94,
     "metadata": {},
     "output_type": "execute_result"
    }
   ],
   "source": [
    "unscaled_inputs.columns.values"
   ]
  },
  {
   "cell_type": "code",
   "execution_count": 95,
   "id": "93b301fe",
   "metadata": {
    "ExecuteTime": {
     "end_time": "2023-09-21T15:51:50.787386Z",
     "start_time": "2023-09-21T15:51:50.429393800Z"
    }
   },
   "outputs": [],
   "source": [
    "feature_name = unscaled_inputs.columns.values"
   ]
  },
  {
   "cell_type": "code",
   "execution_count": 96,
   "id": "cd9ba290",
   "metadata": {
    "ExecuteTime": {
     "end_time": "2023-09-21T15:51:50.787386Z",
     "start_time": "2023-09-21T15:51:50.430897500Z"
    }
   },
   "outputs": [
    {
     "data": {
      "text/plain": "               Feature name  Coefficient\n0                  Reason_1     2.076018\n1                  Reason_2     0.335048\n2                  Reason_3     1.561623\n3                  Reason_4     1.329274\n4    Transportation Expense     0.706393\n5          Distance to Work    -0.039868\n6                       Age    -0.200895\n7   Daily Work Load Average    -0.004564\n8           Body Mass Index     0.319336\n9                 Education    -0.135508\n10                 Children     0.381724\n11                     Pets    -0.333243\n12              Month Value     0.187937\n13          Day of the Week    -0.070623",
      "text/html": "<div>\n<style scoped>\n    .dataframe tbody tr th:only-of-type {\n        vertical-align: middle;\n    }\n\n    .dataframe tbody tr th {\n        vertical-align: top;\n    }\n\n    .dataframe thead th {\n        text-align: right;\n    }\n</style>\n<table border=\"1\" class=\"dataframe\">\n  <thead>\n    <tr style=\"text-align: right;\">\n      <th></th>\n      <th>Feature name</th>\n      <th>Coefficient</th>\n    </tr>\n  </thead>\n  <tbody>\n    <tr>\n      <th>0</th>\n      <td>Reason_1</td>\n      <td>2.076018</td>\n    </tr>\n    <tr>\n      <th>1</th>\n      <td>Reason_2</td>\n      <td>0.335048</td>\n    </tr>\n    <tr>\n      <th>2</th>\n      <td>Reason_3</td>\n      <td>1.561623</td>\n    </tr>\n    <tr>\n      <th>3</th>\n      <td>Reason_4</td>\n      <td>1.329274</td>\n    </tr>\n    <tr>\n      <th>4</th>\n      <td>Transportation Expense</td>\n      <td>0.706393</td>\n    </tr>\n    <tr>\n      <th>5</th>\n      <td>Distance to Work</td>\n      <td>-0.039868</td>\n    </tr>\n    <tr>\n      <th>6</th>\n      <td>Age</td>\n      <td>-0.200895</td>\n    </tr>\n    <tr>\n      <th>7</th>\n      <td>Daily Work Load Average</td>\n      <td>-0.004564</td>\n    </tr>\n    <tr>\n      <th>8</th>\n      <td>Body Mass Index</td>\n      <td>0.319336</td>\n    </tr>\n    <tr>\n      <th>9</th>\n      <td>Education</td>\n      <td>-0.135508</td>\n    </tr>\n    <tr>\n      <th>10</th>\n      <td>Children</td>\n      <td>0.381724</td>\n    </tr>\n    <tr>\n      <th>11</th>\n      <td>Pets</td>\n      <td>-0.333243</td>\n    </tr>\n    <tr>\n      <th>12</th>\n      <td>Month Value</td>\n      <td>0.187937</td>\n    </tr>\n    <tr>\n      <th>13</th>\n      <td>Day of the Week</td>\n      <td>-0.070623</td>\n    </tr>\n  </tbody>\n</table>\n</div>"
     },
     "execution_count": 96,
     "metadata": {},
     "output_type": "execute_result"
    }
   ],
   "source": [
    "summary_table = pd.DataFrame(columns=['Feature name'], data=feature_name)\n",
    "summary_table['Coefficient'] = np.transpose(reg.coef_)\n",
    "summary_table"
   ]
  },
  {
   "cell_type": "code",
   "execution_count": 97,
   "id": "da82e26e",
   "metadata": {
    "ExecuteTime": {
     "end_time": "2023-09-21T15:51:50.787386Z",
     "start_time": "2023-09-21T15:51:50.436632100Z"
    }
   },
   "outputs": [
    {
     "data": {
      "text/plain": "               Feature name  Coefficient\n0                 Intercept    -0.222067\n1                  Reason_1     2.076018\n2                  Reason_2     0.335048\n3                  Reason_3     1.561623\n4                  Reason_4     1.329274\n5    Transportation Expense     0.706393\n6          Distance to Work    -0.039868\n7                       Age    -0.200895\n8   Daily Work Load Average    -0.004564\n9           Body Mass Index     0.319336\n10                Education    -0.135508\n11                 Children     0.381724\n12                     Pets    -0.333243\n13              Month Value     0.187937\n14          Day of the Week    -0.070623",
      "text/html": "<div>\n<style scoped>\n    .dataframe tbody tr th:only-of-type {\n        vertical-align: middle;\n    }\n\n    .dataframe tbody tr th {\n        vertical-align: top;\n    }\n\n    .dataframe thead th {\n        text-align: right;\n    }\n</style>\n<table border=\"1\" class=\"dataframe\">\n  <thead>\n    <tr style=\"text-align: right;\">\n      <th></th>\n      <th>Feature name</th>\n      <th>Coefficient</th>\n    </tr>\n  </thead>\n  <tbody>\n    <tr>\n      <th>0</th>\n      <td>Intercept</td>\n      <td>-0.222067</td>\n    </tr>\n    <tr>\n      <th>1</th>\n      <td>Reason_1</td>\n      <td>2.076018</td>\n    </tr>\n    <tr>\n      <th>2</th>\n      <td>Reason_2</td>\n      <td>0.335048</td>\n    </tr>\n    <tr>\n      <th>3</th>\n      <td>Reason_3</td>\n      <td>1.561623</td>\n    </tr>\n    <tr>\n      <th>4</th>\n      <td>Reason_4</td>\n      <td>1.329274</td>\n    </tr>\n    <tr>\n      <th>5</th>\n      <td>Transportation Expense</td>\n      <td>0.706393</td>\n    </tr>\n    <tr>\n      <th>6</th>\n      <td>Distance to Work</td>\n      <td>-0.039868</td>\n    </tr>\n    <tr>\n      <th>7</th>\n      <td>Age</td>\n      <td>-0.200895</td>\n    </tr>\n    <tr>\n      <th>8</th>\n      <td>Daily Work Load Average</td>\n      <td>-0.004564</td>\n    </tr>\n    <tr>\n      <th>9</th>\n      <td>Body Mass Index</td>\n      <td>0.319336</td>\n    </tr>\n    <tr>\n      <th>10</th>\n      <td>Education</td>\n      <td>-0.135508</td>\n    </tr>\n    <tr>\n      <th>11</th>\n      <td>Children</td>\n      <td>0.381724</td>\n    </tr>\n    <tr>\n      <th>12</th>\n      <td>Pets</td>\n      <td>-0.333243</td>\n    </tr>\n    <tr>\n      <th>13</th>\n      <td>Month Value</td>\n      <td>0.187937</td>\n    </tr>\n    <tr>\n      <th>14</th>\n      <td>Day of the Week</td>\n      <td>-0.070623</td>\n    </tr>\n  </tbody>\n</table>\n</div>"
     },
     "execution_count": 97,
     "metadata": {},
     "output_type": "execute_result"
    }
   ],
   "source": [
    "summary_table.index = summary_table.index + 1\n",
    "summary_table.loc[0] = ['Intercept', reg.intercept_[0]]\n",
    "summary_table = summary_table.sort_index()\n",
    "summary_table"
   ]
  },
  {
   "cell_type": "markdown",
   "id": "519f847a",
   "metadata": {},
   "source": [
    "#### interpreting the coefficients"
   ]
  },
  {
   "cell_type": "code",
   "execution_count": 98,
   "id": "2618381a",
   "metadata": {
    "ExecuteTime": {
     "end_time": "2023-09-21T15:51:50.788386300Z",
     "start_time": "2023-09-21T15:51:50.442385Z"
    }
   },
   "outputs": [
    {
     "data": {
      "text/plain": "               Feature name  Coefficient  Odds_ratio\n0                 Intercept    -0.222067    0.800861\n1                  Reason_1     2.076018    7.972656\n2                  Reason_2     0.335048    1.398007\n3                  Reason_3     1.561623    4.766551\n4                  Reason_4     1.329274    3.778301\n5    Transportation Expense     0.706393    2.026668\n6          Distance to Work    -0.039868    0.960916\n7                       Age    -0.200895    0.817998\n8   Daily Work Load Average    -0.004564    0.995447\n9           Body Mass Index     0.319336    1.376213\n10                Education    -0.135508    0.873272\n11                 Children     0.381724    1.464808\n12                     Pets    -0.333243    0.716596\n13              Month Value     0.187937    1.206757\n14          Day of the Week    -0.070623    0.931814",
      "text/html": "<div>\n<style scoped>\n    .dataframe tbody tr th:only-of-type {\n        vertical-align: middle;\n    }\n\n    .dataframe tbody tr th {\n        vertical-align: top;\n    }\n\n    .dataframe thead th {\n        text-align: right;\n    }\n</style>\n<table border=\"1\" class=\"dataframe\">\n  <thead>\n    <tr style=\"text-align: right;\">\n      <th></th>\n      <th>Feature name</th>\n      <th>Coefficient</th>\n      <th>Odds_ratio</th>\n    </tr>\n  </thead>\n  <tbody>\n    <tr>\n      <th>0</th>\n      <td>Intercept</td>\n      <td>-0.222067</td>\n      <td>0.800861</td>\n    </tr>\n    <tr>\n      <th>1</th>\n      <td>Reason_1</td>\n      <td>2.076018</td>\n      <td>7.972656</td>\n    </tr>\n    <tr>\n      <th>2</th>\n      <td>Reason_2</td>\n      <td>0.335048</td>\n      <td>1.398007</td>\n    </tr>\n    <tr>\n      <th>3</th>\n      <td>Reason_3</td>\n      <td>1.561623</td>\n      <td>4.766551</td>\n    </tr>\n    <tr>\n      <th>4</th>\n      <td>Reason_4</td>\n      <td>1.329274</td>\n      <td>3.778301</td>\n    </tr>\n    <tr>\n      <th>5</th>\n      <td>Transportation Expense</td>\n      <td>0.706393</td>\n      <td>2.026668</td>\n    </tr>\n    <tr>\n      <th>6</th>\n      <td>Distance to Work</td>\n      <td>-0.039868</td>\n      <td>0.960916</td>\n    </tr>\n    <tr>\n      <th>7</th>\n      <td>Age</td>\n      <td>-0.200895</td>\n      <td>0.817998</td>\n    </tr>\n    <tr>\n      <th>8</th>\n      <td>Daily Work Load Average</td>\n      <td>-0.004564</td>\n      <td>0.995447</td>\n    </tr>\n    <tr>\n      <th>9</th>\n      <td>Body Mass Index</td>\n      <td>0.319336</td>\n      <td>1.376213</td>\n    </tr>\n    <tr>\n      <th>10</th>\n      <td>Education</td>\n      <td>-0.135508</td>\n      <td>0.873272</td>\n    </tr>\n    <tr>\n      <th>11</th>\n      <td>Children</td>\n      <td>0.381724</td>\n      <td>1.464808</td>\n    </tr>\n    <tr>\n      <th>12</th>\n      <td>Pets</td>\n      <td>-0.333243</td>\n      <td>0.716596</td>\n    </tr>\n    <tr>\n      <th>13</th>\n      <td>Month Value</td>\n      <td>0.187937</td>\n      <td>1.206757</td>\n    </tr>\n    <tr>\n      <th>14</th>\n      <td>Day of the Week</td>\n      <td>-0.070623</td>\n      <td>0.931814</td>\n    </tr>\n  </tbody>\n</table>\n</div>"
     },
     "execution_count": 98,
     "metadata": {},
     "output_type": "execute_result"
    }
   ],
   "source": [
    "summary_table['Odds_ratio'] = np.exp(summary_table.Coefficient)\n",
    "summary_table"
   ]
  },
  {
   "cell_type": "code",
   "execution_count": 99,
   "id": "281a5e3d",
   "metadata": {
    "ExecuteTime": {
     "end_time": "2023-09-21T15:51:50.788386300Z",
     "start_time": "2023-09-21T15:51:50.447925300Z"
    }
   },
   "outputs": [
    {
     "data": {
      "text/plain": "               Feature name  Coefficient  Odds_ratio\n1                  Reason_1     2.076018    7.972656\n3                  Reason_3     1.561623    4.766551\n4                  Reason_4     1.329274    3.778301\n5    Transportation Expense     0.706393    2.026668\n11                 Children     0.381724    1.464808\n2                  Reason_2     0.335048    1.398007\n9           Body Mass Index     0.319336    1.376213\n13              Month Value     0.187937    1.206757\n8   Daily Work Load Average    -0.004564    0.995447\n6          Distance to Work    -0.039868    0.960916\n14          Day of the Week    -0.070623    0.931814\n10                Education    -0.135508    0.873272\n7                       Age    -0.200895    0.817998\n0                 Intercept    -0.222067    0.800861\n12                     Pets    -0.333243    0.716596",
      "text/html": "<div>\n<style scoped>\n    .dataframe tbody tr th:only-of-type {\n        vertical-align: middle;\n    }\n\n    .dataframe tbody tr th {\n        vertical-align: top;\n    }\n\n    .dataframe thead th {\n        text-align: right;\n    }\n</style>\n<table border=\"1\" class=\"dataframe\">\n  <thead>\n    <tr style=\"text-align: right;\">\n      <th></th>\n      <th>Feature name</th>\n      <th>Coefficient</th>\n      <th>Odds_ratio</th>\n    </tr>\n  </thead>\n  <tbody>\n    <tr>\n      <th>1</th>\n      <td>Reason_1</td>\n      <td>2.076018</td>\n      <td>7.972656</td>\n    </tr>\n    <tr>\n      <th>3</th>\n      <td>Reason_3</td>\n      <td>1.561623</td>\n      <td>4.766551</td>\n    </tr>\n    <tr>\n      <th>4</th>\n      <td>Reason_4</td>\n      <td>1.329274</td>\n      <td>3.778301</td>\n    </tr>\n    <tr>\n      <th>5</th>\n      <td>Transportation Expense</td>\n      <td>0.706393</td>\n      <td>2.026668</td>\n    </tr>\n    <tr>\n      <th>11</th>\n      <td>Children</td>\n      <td>0.381724</td>\n      <td>1.464808</td>\n    </tr>\n    <tr>\n      <th>2</th>\n      <td>Reason_2</td>\n      <td>0.335048</td>\n      <td>1.398007</td>\n    </tr>\n    <tr>\n      <th>9</th>\n      <td>Body Mass Index</td>\n      <td>0.319336</td>\n      <td>1.376213</td>\n    </tr>\n    <tr>\n      <th>13</th>\n      <td>Month Value</td>\n      <td>0.187937</td>\n      <td>1.206757</td>\n    </tr>\n    <tr>\n      <th>8</th>\n      <td>Daily Work Load Average</td>\n      <td>-0.004564</td>\n      <td>0.995447</td>\n    </tr>\n    <tr>\n      <th>6</th>\n      <td>Distance to Work</td>\n      <td>-0.039868</td>\n      <td>0.960916</td>\n    </tr>\n    <tr>\n      <th>14</th>\n      <td>Day of the Week</td>\n      <td>-0.070623</td>\n      <td>0.931814</td>\n    </tr>\n    <tr>\n      <th>10</th>\n      <td>Education</td>\n      <td>-0.135508</td>\n      <td>0.873272</td>\n    </tr>\n    <tr>\n      <th>7</th>\n      <td>Age</td>\n      <td>-0.200895</td>\n      <td>0.817998</td>\n    </tr>\n    <tr>\n      <th>0</th>\n      <td>Intercept</td>\n      <td>-0.222067</td>\n      <td>0.800861</td>\n    </tr>\n    <tr>\n      <th>12</th>\n      <td>Pets</td>\n      <td>-0.333243</td>\n      <td>0.716596</td>\n    </tr>\n  </tbody>\n</table>\n</div>"
     },
     "execution_count": 99,
     "metadata": {},
     "output_type": "execute_result"
    }
   ],
   "source": [
    "summary_table.sort_values('Odds_ratio', ascending=False)"
   ]
  },
  {
   "cell_type": "markdown",
   "id": "a8240af8",
   "metadata": {},
   "source": [
    "### testing model"
   ]
  },
  {
   "cell_type": "code",
   "execution_count": 100,
   "id": "ea95968a",
   "metadata": {
    "ExecuteTime": {
     "end_time": "2023-09-21T15:51:50.789386200Z",
     "start_time": "2023-09-21T15:51:50.453093900Z"
    }
   },
   "outputs": [
    {
     "name": "stderr",
     "output_type": "stream",
     "text": [
      "C:\\Users\\luiss\\AppData\\Local\\Programs\\Python\\Python311\\Lib\\site-packages\\sklearn\\utils\\validation.py:757: FutureWarning: is_sparse is deprecated and will be removed in a future version. Check `isinstance(dtype, pd.SparseDtype)` instead.\n",
      "  if not hasattr(array, \"sparse\") and array.dtypes.apply(is_sparse).any():\n",
      "C:\\Users\\luiss\\AppData\\Local\\Programs\\Python\\Python311\\Lib\\site-packages\\sklearn\\utils\\validation.py:595: FutureWarning: is_sparse is deprecated and will be removed in a future version. Check `isinstance(dtype, pd.SparseDtype)` instead.\n",
      "  if is_sparse(pd_dtype):\n",
      "C:\\Users\\luiss\\AppData\\Local\\Programs\\Python\\Python311\\Lib\\site-packages\\sklearn\\utils\\validation.py:604: FutureWarning: is_sparse is deprecated and will be removed in a future version. Check `isinstance(dtype, pd.SparseDtype)` instead.\n",
      "  if is_sparse(pd_dtype) or not is_extension_array_dtype(pd_dtype):\n"
     ]
    },
    {
     "data": {
      "text/plain": "0.7357142857142858"
     },
     "execution_count": 100,
     "metadata": {},
     "output_type": "execute_result"
    }
   ],
   "source": [
    "reg.score(x_test, y_test)"
   ]
  },
  {
   "cell_type": "code",
   "execution_count": 101,
   "id": "b35e764f",
   "metadata": {
    "ExecuteTime": {
     "end_time": "2023-09-21T15:51:50.789386200Z",
     "start_time": "2023-09-21T15:51:50.457412100Z"
    }
   },
   "outputs": [
    {
     "name": "stderr",
     "output_type": "stream",
     "text": [
      "C:\\Users\\luiss\\AppData\\Local\\Programs\\Python\\Python311\\Lib\\site-packages\\sklearn\\utils\\validation.py:757: FutureWarning: is_sparse is deprecated and will be removed in a future version. Check `isinstance(dtype, pd.SparseDtype)` instead.\n",
      "  if not hasattr(array, \"sparse\") and array.dtypes.apply(is_sparse).any():\n",
      "C:\\Users\\luiss\\AppData\\Local\\Programs\\Python\\Python311\\Lib\\site-packages\\sklearn\\utils\\validation.py:595: FutureWarning: is_sparse is deprecated and will be removed in a future version. Check `isinstance(dtype, pd.SparseDtype)` instead.\n",
      "  if is_sparse(pd_dtype):\n",
      "C:\\Users\\luiss\\AppData\\Local\\Programs\\Python\\Python311\\Lib\\site-packages\\sklearn\\utils\\validation.py:604: FutureWarning: is_sparse is deprecated and will be removed in a future version. Check `isinstance(dtype, pd.SparseDtype)` instead.\n",
      "  if is_sparse(pd_dtype) or not is_extension_array_dtype(pd_dtype):\n"
     ]
    }
   ],
   "source": [
    "predicted_poba = reg.predict_proba(x_test)"
   ]
  },
  {
   "cell_type": "code",
   "execution_count": 102,
   "id": "04d1b964",
   "metadata": {
    "ExecuteTime": {
     "end_time": "2023-09-21T15:51:50.796387500Z",
     "start_time": "2023-09-21T15:51:50.460811100Z"
    }
   },
   "outputs": [
    {
     "data": {
      "text/plain": "array([[0.73864865, 0.26135135],\n       [0.58845661, 0.41154339],\n       [0.36763564, 0.63236436],\n       [0.81198089, 0.18801911],\n       [0.0613996 , 0.9386004 ],\n       [0.30742403, 0.69257597],\n       [0.29538175, 0.70461825],\n       [0.08106026, 0.91893974],\n       [0.80435611, 0.19564389],\n       [0.76038732, 0.23961268],\n       [0.46271934, 0.53728066],\n       [0.15484755, 0.84515245],\n       [0.04619732, 0.95380268],\n       [0.72991038, 0.27008962],\n       [0.23140393, 0.76859607],\n       [0.55130442, 0.44869558],\n       [0.5292476 , 0.4707524 ],\n       [0.55522744, 0.44477256],\n       [0.38197963, 0.61802037],\n       [0.02527634, 0.97472366],\n       [0.69617984, 0.30382016],\n       [0.80458387, 0.19541613],\n       [0.37734902, 0.62265098],\n       [0.40003074, 0.59996926],\n       [0.18229161, 0.81770839],\n       [0.76011784, 0.23988216],\n       [0.47050402, 0.52949598],\n       [0.88997625, 0.11002375],\n       [0.13577639, 0.86422361],\n       [0.7969686 , 0.2030314 ],\n       [0.61545173, 0.38454827],\n       [0.29540849, 0.70459151],\n       [0.29861822, 0.70138178],\n       [0.43636107, 0.56363893],\n       [0.80458387, 0.19541613],\n       [0.45743759, 0.54256241],\n       [0.79495044, 0.20504956],\n       [0.17927677, 0.82072323],\n       [0.55533981, 0.44466019],\n       [0.38891781, 0.61108219],\n       [0.79091218, 0.20908782],\n       [0.59718847, 0.40281153],\n       [0.78626379, 0.21373621],\n       [0.90155909, 0.09844091],\n       [0.15775504, 0.84224496],\n       [0.33387011, 0.66612989],\n       [0.28327069, 0.71672931],\n       [0.73017956, 0.26982044],\n       [0.79844264, 0.20155736],\n       [0.82929957, 0.17070043],\n       [0.4266055 , 0.5733945 ],\n       [0.91701038, 0.08298962],\n       [0.32068258, 0.67931742],\n       [0.71369671, 0.28630329],\n       [0.12746591, 0.87253409],\n       [0.51453431, 0.48546569],\n       [0.0674669 , 0.9325331 ],\n       [0.7537751 , 0.2462249 ],\n       [0.91830328, 0.08169672],\n       [0.91760659, 0.08239341],\n       [0.27204448, 0.72795552],\n       [0.3304846 , 0.6695154 ],\n       [0.68798136, 0.31201864],\n       [0.13973706, 0.86026294],\n       [0.8161173 , 0.1838827 ],\n       [0.7403345 , 0.2596655 ],\n       [0.9868338 , 0.0131662 ],\n       [0.77970087, 0.22029913],\n       [0.1876351 , 0.8123649 ],\n       [0.68546135, 0.31453865],\n       [0.79566259, 0.20433741],\n       [0.92871986, 0.07128014],\n       [0.06674077, 0.93325923],\n       [0.53680529, 0.46319471],\n       [0.34482822, 0.65517178],\n       [0.7969686 , 0.2030314 ],\n       [0.14871293, 0.85128707],\n       [0.28022733, 0.71977267],\n       [0.21027431, 0.78972569],\n       [0.30962571, 0.69037429],\n       [0.75845751, 0.24154249],\n       [0.98786963, 0.01213037],\n       [0.78013291, 0.21986709],\n       [0.23875535, 0.76124465],\n       [0.56495539, 0.43504461],\n       [0.90095328, 0.09904672],\n       [0.28305419, 0.71694581],\n       [0.4111126 , 0.5888874 ],\n       [0.9508767 , 0.0491233 ],\n       [0.30544114, 0.69455886],\n       [0.86512466, 0.13487534],\n       [0.87785212, 0.12214788],\n       [0.78847559, 0.21152441],\n       [0.72202798, 0.27797202],\n       [0.7773488 , 0.2226512 ],\n       [0.10736118, 0.89263882],\n       [0.72743745, 0.27256255],\n       [0.19062097, 0.80937903],\n       [0.77148365, 0.22851635],\n       [0.80086491, 0.19913509],\n       [0.33158859, 0.66841141],\n       [0.28556989, 0.71443011],\n       [0.26961577, 0.73038423],\n       [0.27672965, 0.72327035],\n       [0.51458792, 0.48541208],\n       [0.46364011, 0.53635989],\n       [0.74879857, 0.25120143],\n       [0.12187794, 0.87812206],\n       [0.20095775, 0.79904225],\n       [0.85670113, 0.14329887],\n       [0.98908819, 0.01091181],\n       [0.07567792, 0.92432208],\n       [0.26259581, 0.73740419],\n       [0.64224866, 0.35775134],\n       [0.42437799, 0.57562201],\n       [0.39738903, 0.60261097],\n       [0.13024216, 0.86975784],\n       [0.16722385, 0.83277615],\n       [0.46572923, 0.53427077],\n       [0.69383587, 0.30616413],\n       [0.76723907, 0.23276093],\n       [0.85612112, 0.14387888],\n       [0.1284117 , 0.8715883 ],\n       [0.56231091, 0.43768909],\n       [0.7969686 , 0.2030314 ],\n       [0.62489141, 0.37510859],\n       [0.8136116 , 0.1863884 ],\n       [0.89309299, 0.10690701],\n       [0.23385734, 0.76614266],\n       [0.68505831, 0.31494169],\n       [0.33285298, 0.66714702],\n       [0.80604176, 0.19395824],\n       [0.6879822 , 0.3120178 ],\n       [0.65781679, 0.34218321],\n       [0.71446029, 0.28553971],\n       [0.45907711, 0.54092289],\n       [0.5396467 , 0.4603533 ],\n       [0.70364311, 0.29635689],\n       [0.74526002, 0.25473998],\n       [0.53622983, 0.46377017]])"
     },
     "execution_count": 102,
     "metadata": {},
     "output_type": "execute_result"
    }
   ],
   "source": [
    "predicted_poba"
   ]
  },
  {
   "cell_type": "code",
   "execution_count": 103,
   "id": "a785ff94",
   "metadata": {
    "ExecuteTime": {
     "end_time": "2023-09-21T15:51:50.796387500Z",
     "start_time": "2023-09-21T15:51:50.466137300Z"
    }
   },
   "outputs": [
    {
     "data": {
      "text/plain": "array([0.26135135, 0.41154339, 0.63236436, 0.18801911, 0.9386004 ,\n       0.69257597, 0.70461825, 0.91893974, 0.19564389, 0.23961268,\n       0.53728066, 0.84515245, 0.95380268, 0.27008962, 0.76859607,\n       0.44869558, 0.4707524 , 0.44477256, 0.61802037, 0.97472366,\n       0.30382016, 0.19541613, 0.62265098, 0.59996926, 0.81770839,\n       0.23988216, 0.52949598, 0.11002375, 0.86422361, 0.2030314 ,\n       0.38454827, 0.70459151, 0.70138178, 0.56363893, 0.19541613,\n       0.54256241, 0.20504956, 0.82072323, 0.44466019, 0.61108219,\n       0.20908782, 0.40281153, 0.21373621, 0.09844091, 0.84224496,\n       0.66612989, 0.71672931, 0.26982044, 0.20155736, 0.17070043,\n       0.5733945 , 0.08298962, 0.67931742, 0.28630329, 0.87253409,\n       0.48546569, 0.9325331 , 0.2462249 , 0.08169672, 0.08239341,\n       0.72795552, 0.6695154 , 0.31201864, 0.86026294, 0.1838827 ,\n       0.2596655 , 0.0131662 , 0.22029913, 0.8123649 , 0.31453865,\n       0.20433741, 0.07128014, 0.93325923, 0.46319471, 0.65517178,\n       0.2030314 , 0.85128707, 0.71977267, 0.78972569, 0.69037429,\n       0.24154249, 0.01213037, 0.21986709, 0.76124465, 0.43504461,\n       0.09904672, 0.71694581, 0.5888874 , 0.0491233 , 0.69455886,\n       0.13487534, 0.12214788, 0.21152441, 0.27797202, 0.2226512 ,\n       0.89263882, 0.27256255, 0.80937903, 0.22851635, 0.19913509,\n       0.66841141, 0.71443011, 0.73038423, 0.72327035, 0.48541208,\n       0.53635989, 0.25120143, 0.87812206, 0.79904225, 0.14329887,\n       0.01091181, 0.92432208, 0.73740419, 0.35775134, 0.57562201,\n       0.60261097, 0.86975784, 0.83277615, 0.53427077, 0.30616413,\n       0.23276093, 0.14387888, 0.8715883 , 0.43768909, 0.2030314 ,\n       0.37510859, 0.1863884 , 0.10690701, 0.76614266, 0.31494169,\n       0.66714702, 0.19395824, 0.3120178 , 0.34218321, 0.28553971,\n       0.54092289, 0.4603533 , 0.29635689, 0.25473998, 0.46377017])"
     },
     "execution_count": 103,
     "metadata": {},
     "output_type": "execute_result"
    }
   ],
   "source": [
    "predicted_poba[:,1]"
   ]
  },
  {
   "cell_type": "markdown",
   "id": "995ece31",
   "metadata": {},
   "source": [
    "### save model"
   ]
  },
  {
   "cell_type": "code",
   "execution_count": 104,
   "id": "f09a2a88",
   "metadata": {
    "ExecuteTime": {
     "end_time": "2023-09-21T15:51:50.796387500Z",
     "start_time": "2023-09-21T15:51:50.468743100Z"
    }
   },
   "outputs": [],
   "source": [
    "import pickle"
   ]
  },
  {
   "cell_type": "code",
   "execution_count": 105,
   "id": "af4b0b11",
   "metadata": {
    "ExecuteTime": {
     "end_time": "2023-09-21T15:51:50.796387500Z",
     "start_time": "2023-09-21T15:51:50.472235300Z"
    }
   },
   "outputs": [],
   "source": [
    "with open('model', 'wb') as file:\n",
    "    pickle.dump(reg, file)"
   ]
  },
  {
   "cell_type": "code",
   "execution_count": 106,
   "id": "1db2a933",
   "metadata": {
    "ExecuteTime": {
     "end_time": "2023-09-21T15:51:50.796387500Z",
     "start_time": "2023-09-21T15:51:50.474123500Z"
    }
   },
   "outputs": [],
   "source": [
    "with open('scaler', 'wb') as file:\n",
    "    pickle.dump(absenteeism_scaler, file)"
   ]
  },
  {
   "cell_type": "code",
   "execution_count": 106,
   "id": "423289d4",
   "metadata": {
    "ExecuteTime": {
     "end_time": "2023-09-21T15:51:50.796387500Z",
     "start_time": "2023-09-21T15:51:50.477170Z"
    }
   },
   "outputs": [],
   "source": []
  }
 ],
 "metadata": {
  "kernelspec": {
   "display_name": "Python 3 (ipykernel)",
   "language": "python",
   "name": "python3"
  },
  "language_info": {
   "codemirror_mode": {
    "name": "ipython",
    "version": 3
   },
   "file_extension": ".py",
   "mimetype": "text/x-python",
   "name": "python",
   "nbconvert_exporter": "python",
   "pygments_lexer": "ipython3",
   "version": "3.11.4"
  }
 },
 "nbformat": 4,
 "nbformat_minor": 5
}
